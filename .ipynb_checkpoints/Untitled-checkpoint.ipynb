{
 "cells": [
  {
   "cell_type": "code",
   "execution_count": 1,
   "id": "ccdf9f25",
   "metadata": {},
   "outputs": [],
   "source": [
    "from sklearn import datasets\n",
    "import numpy as np\n",
    "import matplotlib\n",
    "import matplotlib.pyplot as plt\n",
    "from sklearn.model_selection import train_test_split\n",
    "\n"
   ]
  },
  {
   "cell_type": "code",
   "execution_count": 2,
   "id": "05932d89",
   "metadata": {},
   "outputs": [
    {
     "data": {
      "text/plain": [
       "(1797, 64)"
      ]
     },
     "execution_count": 2,
     "metadata": {},
     "output_type": "execute_result"
    }
   ],
   "source": [
    "digits = datasets.load_digits()\n",
    "digits.data.shape"
   ]
  },
  {
   "cell_type": "code",
   "execution_count": 3,
   "id": "2ba43d28",
   "metadata": {},
   "outputs": [],
   "source": [
    "X,y = digits['data'],digits['target']\n"
   ]
  },
  {
   "cell_type": "code",
   "execution_count": 4,
   "id": "8ca07f24",
   "metadata": {},
   "outputs": [
    {
     "data": {
      "image/png": "[encoded data removed]",
      "text/plain": [
       "<Figure size 640x480 with 1 Axes>"
      ]
     },
     "metadata": {},
     "output_type": "display_data"
    }
   ],
   "source": [
    "some_digit = X[60]\n",
    "\n",
    "plt.imshow(digits.images[120],cmap = matplotlib.cm.binary,\n",
    "          interpolation = \"nearest\")\n",
    "# plt.axis('off')\n",
    "plt.show()"
   ]
  },
  {
   "cell_type": "code",
   "execution_count": 5,
   "id": "f3d77b65",
   "metadata": {},
   "outputs": [
    {
     "data": {
      "text/plain": [
       "5"
      ]
     },
     "execution_count": 5,
     "metadata": {},
     "output_type": "execute_result"
    }
   ],
   "source": [
    "y[120]"
   ]
  },
  {
   "cell_type": "markdown",
   "id": "82b4c82f",
   "metadata": {},
   "source": [
    "split the dataset into train and test size"
   ]
  },
  {
   "cell_type": "code",
   "execution_count": 6,
   "id": "5b08797c",
   "metadata": {},
   "outputs": [],
   "source": [
    "X_train,X_test,y_train,y_test = X[:1000],X[1000:], y[:1000], y[1000:]\n",
    "\n",
    "shuffle_index = np.random.permutation(1000)\n",
    "X_train,y_train  = X_train[shuffle_index], y_train[shuffle_index]\n"
   ]
  },
  {
   "cell_type": "code",
   "execution_count": 7,
   "id": "f846897a",
   "metadata": {},
   "outputs": [
    {
     "name": "stdout",
     "output_type": "stream",
     "text": [
      "2\n",
      "1\n"
     ]
    }
   ],
   "source": [
    "y_train_5 =(y_train ==5)\n",
    "y_test_5 = (y_test ==5)\n",
    "\n",
    "print(X_train.ndim)\n",
    "print(y_train.ndim)\n",
    "\n"
   ]
  },
  {
   "cell_type": "code",
   "execution_count": null,
   "id": "3242e820",
   "metadata": {},
   "outputs": [],
   "source": []
  },
  {
   "cell_type": "code",
   "execution_count": 8,
   "id": "931c421d",
   "metadata": {},
   "outputs": [
    {
     "data": {
      "text/html": [
       "<style>#sk-container-id-1 {color: black;background-color: white;}#sk-container-id-1 pre{padding: 0;}#sk-container-id-1 div.sk-toggleable {background-color: white;}#sk-container-id-1 label.sk-toggleable__label {cursor: pointer;display: block;width: 100%;margin-bottom: 0;padding: 0.3em;box-sizing: border-box;text-align: center;}#sk-container-id-1 label.sk-toggleable__label-arrow:before {content: \"▸\";float: left;margin-right: 0.25em;color: #696969;}#sk-container-id-1 label.sk-toggleable__label-arrow:hover:before {color: black;}#sk-container-id-1 div.sk-estimator:hover label.sk-toggleable__label-arrow:before {color: black;}#sk-container-id-1 div.sk-toggleable__content {max-height: 0;max-width: 0;overflow: hidden;text-align: left;background-color: #f0f8ff;}#sk-container-id-1 div.sk-toggleable__content pre {margin: 0.2em;color: black;border-radius: 0.25em;background-color: #f0f8ff;}#sk-container-id-1 input.sk-toggleable__control:checked~div.sk-toggleable__content {max-height: 200px;max-width: 100%;overflow: auto;}#sk-container-id-1 input.sk-toggleable__control:checked~label.sk-toggleable__label-arrow:before {content: \"▾\";}#sk-container-id-1 div.sk-estimator input.sk-toggleable__control:checked~label.sk-toggleable__label {background-color: #d4ebff;}#sk-container-id-1 div.sk-label input.sk-toggleable__control:checked~label.sk-toggleable__label {background-color: #d4ebff;}#sk-container-id-1 input.sk-hidden--visually {border: 0;clip: rect(1px 1px 1px 1px);clip: rect(1px, 1px, 1px, 1px);height: 1px;margin: -1px;overflow: hidden;padding: 0;position: absolute;width: 1px;}#sk-container-id-1 div.sk-estimator {font-family: monospace;background-color: #f0f8ff;border: 1px dotted black;border-radius: 0.25em;box-sizing: border-box;margin-bottom: 0.5em;}#sk-container-id-1 div.sk-estimator:hover {background-color: #d4ebff;}#sk-container-id-1 div.sk-parallel-item::after {content: \"\";width: 100%;border-bottom: 1px solid gray;flex-grow: 1;}#sk-container-id-1 div.sk-label:hover label.sk-toggleable__label {background-color: #d4ebff;}#sk-container-id-1 div.sk-serial::before {content: \"\";position: absolute;border-left: 1px solid gray;box-sizing: border-box;top: 0;bottom: 0;left: 50%;z-index: 0;}#sk-container-id-1 div.sk-serial {display: flex;flex-direction: column;align-items: center;background-color: white;padding-right: 0.2em;padding-left: 0.2em;position: relative;}#sk-container-id-1 div.sk-item {position: relative;z-index: 1;}#sk-container-id-1 div.sk-parallel {display: flex;align-items: stretch;justify-content: center;background-color: white;position: relative;}#sk-container-id-1 div.sk-item::before, #sk-container-id-1 div.sk-parallel-item::before {content: \"\";position: absolute;border-left: 1px solid gray;box-sizing: border-box;top: 0;bottom: 0;left: 50%;z-index: -1;}#sk-container-id-1 div.sk-parallel-item {display: flex;flex-direction: column;z-index: 1;position: relative;background-color: white;}#sk-container-id-1 div.sk-parallel-item:first-child::after {align-self: flex-end;width: 50%;}#sk-container-id-1 div.sk-parallel-item:last-child::after {align-self: flex-start;width: 50%;}#sk-container-id-1 div.sk-parallel-item:only-child::after {width: 0;}#sk-container-id-1 div.sk-dashed-wrapped {border: 1px dashed gray;margin: 0 0.4em 0.5em 0.4em;box-sizing: border-box;padding-bottom: 0.4em;background-color: white;}#sk-container-id-1 div.sk-label label {font-family: monospace;font-weight: bold;display: inline-block;line-height: 1.2em;}#sk-container-id-1 div.sk-label-container {text-align: center;}#sk-container-id-1 div.sk-container {/* jupyter's `normalize.less` sets `[hidden] { display: none; }` but bootstrap.min.css set `[hidden] { display: none !important; }` so we also need the `!important` here to be able to override the default hidden behavior on the sphinx rendered scikit-learn.org. See: https://github.com/scikit-learn/scikit-learn/issues/21755 */display: inline-block !important;position: relative;}#sk-container-id-1 div.sk-text-repr-fallback {display: none;}</style><div id=\"sk-container-id-1\" class=\"sk-top-container\"><div class=\"sk-text-repr-fallback\"><pre>SGDClassifier(random_state=42)</pre><b>In a Jupyter environment, please rerun this cell to show the HTML representation or trust the notebook. <br />On GitHub, the HTML representation is unable to render, please try loading this page with nbviewer.org.</b></div><div class=\"sk-container\" hidden><div class=\"sk-item\"><div class=\"sk-estimator sk-toggleable\"><input class=\"sk-toggleable__control sk-hidden--visually\" id=\"sk-estimator-id-1\" type=\"checkbox\" checked><label for=\"sk-estimator-id-1\" class=\"sk-toggleable__label sk-toggleable__label-arrow\">SGDClassifier</label><div class=\"sk-toggleable__content\"><pre>SGDClassifier(random_state=42)</pre></div></div></div></div></div>"
      ],
      "text/plain": [
       "SGDClassifier(random_state=42)"
      ]
     },
     "execution_count": 8,
     "metadata": {},
     "output_type": "execute_result"
    }
   ],
   "source": [
    "from sklearn.linear_model import SGDClassifier\n",
    "\n",
    "sgd_clf = SGDClassifier(random_state = 42)#set random state parameter for variable result\n",
    "sgd_clf.fit(X_train,y_train_5)"
   ]
  },
  {
   "cell_type": "code",
   "execution_count": 9,
   "id": "86abc087",
   "metadata": {},
   "outputs": [
    {
     "data": {
      "text/plain": [
       "array([ True])"
      ]
     },
     "execution_count": 9,
     "metadata": {},
     "output_type": "execute_result"
    }
   ],
   "source": [
    "some_digit = X[120]\n",
    "sgd_clf.predict([some_digit])"
   ]
  },
  {
   "cell_type": "code",
   "execution_count": 10,
   "id": "fc953928",
   "metadata": {},
   "outputs": [
    {
     "name": "stdout",
     "output_type": "stream",
     "text": [
      "0.9910179640718563\n",
      "0.9819819819819819\n",
      "0.987987987987988\n"
     ]
    }
   ],
   "source": [
    "from sklearn.model_selection import StratifiedKFold\n",
    "from sklearn.base import clone\n",
    "skfolds = StratifiedKFold(n_splits=3, random_state=None)\n",
    "for train_index, test_index in skfolds.split(X_train, y_train_5):\n",
    "     clone_clf = clone(sgd_clf)\n",
    "     X_train_folds = X_train[train_index]\n",
    "     y_train_folds = (y_train_5[train_index])\n",
    "     X_test_fold = X_train[test_index]\n",
    "     y_test_fold = (y_train_5[test_index])\n",
    "     clone_clf.fit(X_train_folds, y_train_folds)\n",
    "     y_pred = clone_clf.predict(X_test_fold)\n",
    "     n_correct = sum(y_pred == y_test_fold)\n",
    "     print(n_correct / len(y_pred)) "
   ]
  },
  {
   "cell_type": "code",
   "execution_count": 11,
   "id": "5acb42aa",
   "metadata": {},
   "outputs": [
    {
     "data": {
      "text/plain": [
       "array([0.96107784, 0.94894895, 0.93093093])"
      ]
     },
     "execution_count": 11,
     "metadata": {},
     "output_type": "execute_result"
    }
   ],
   "source": [
    "from sklearn.model_selection import cross_val_score\n",
    "cross_val_score(sgd_clf,X_train,y_train,cv =3,scoring =\"accuracy\")"
   ]
  },
  {
   "cell_type": "code",
   "execution_count": 12,
   "id": "07a06d0b",
   "metadata": {},
   "outputs": [],
   "source": [
    "from sklearn.base import BaseEstimator\n",
    "\n",
    "class never5Classifier(BaseEstimator):\n",
    "    def fit(self,X,y = None):\n",
    "        pass\n",
    "    \n",
    "    def predict(self,X):\n",
    "        return np.zeros((len(X),1),dtype =bool)"
   ]
  },
  {
   "cell_type": "code",
   "execution_count": 13,
   "id": "645f8083",
   "metadata": {},
   "outputs": [
    {
     "data": {
      "text/plain": [
       "array([0.88622754, 0.89489489, 0.91891892])"
      ]
     },
     "execution_count": 13,
     "metadata": {},
     "output_type": "execute_result"
    }
   ],
   "source": [
    "never5_clf = never5Classifier()\n",
    "cross_val_score(never5_clf,X_train,y_train_5,cv =3,scoring = 'accuracy')"
   ]
  },
  {
   "cell_type": "code",
   "execution_count": 14,
   "id": "d5f32251",
   "metadata": {},
   "outputs": [],
   "source": [
    "from sklearn.model_selection import cross_val_predict\n",
    "\n",
    "y_train_pred = cross_val_predict(sgd_clf,X_train,y_train_5,cv=3)\n"
   ]
  },
  {
   "cell_type": "code",
   "execution_count": 15,
   "id": "6467bd1b",
   "metadata": {},
   "outputs": [
    {
     "data": {
      "text/plain": [
       "array([[893,   7],\n",
       "       [  6,  94]], dtype=int64)"
      ]
     },
     "execution_count": 15,
     "metadata": {},
     "output_type": "execute_result"
    }
   ],
   "source": [
    "from sklearn.metrics import confusion_matrix\n",
    "confusion_matrix(y_train_5,y_train_pred)"
   ]
  },
  {
   "cell_type": "code",
   "execution_count": 16,
   "id": "1b5fd871",
   "metadata": {},
   "outputs": [
    {
     "data": {
      "text/plain": [
       "0.94"
      ]
     },
     "execution_count": 16,
     "metadata": {},
     "output_type": "execute_result"
    }
   ],
   "source": [
    "from sklearn.metrics import precision_score, recall_score\n",
    "precision_score(y_train_5,y_train_pred)\n",
    "recall_score(y_train_5,y_train_pred)"
   ]
  },
  {
   "cell_type": "markdown",
   "id": "22c2f2ea",
   "metadata": {},
   "source": [
    "Precison and Recall tradeoff"
   ]
  },
  {
   "cell_type": "code",
   "execution_count": 31,
   "id": "a99d29c9",
   "metadata": {},
   "outputs": [
    {
     "data": {
      "text/plain": [
       "array([206.94171763])"
      ]
     },
     "execution_count": 31,
     "metadata": {},
     "output_type": "execute_result"
    }
   ],
   "source": [
    "y_scores = sgd_clf.decision_function([some_digit])\n",
    "y_scores"
   ]
  },
  {
   "cell_type": "code",
   "execution_count": null,
   "id": "6107d2ac",
   "metadata": {},
   "outputs": [],
   "source": []
  },
  {
   "cell_type": "code",
   "execution_count": 33,
   "id": "d4a4c580",
   "metadata": {},
   "outputs": [
    {
     "data": {
      "text/plain": [
       "array([ -5013.3012583 ,  -2982.76007882,  -5311.68474817,  -4536.01546186,\n",
       "        -3254.30822271,   2469.92665046,  -5739.13347349,  -2343.82326967,\n",
       "        -4412.7006577 ,  -6366.56942007,   -244.91585161,  -5822.83419549,\n",
       "        -5081.02856007,  -5481.6419394 ,   3131.22624793,  -1307.46776523,\n",
       "        -3846.60264479,  -5949.98262051,  -3403.81943605,  -7520.4892974 ,\n",
       "         -650.64072542,  -4628.66129919,  -1382.2233719 ,  -7420.81515517,\n",
       "        -3454.29544397,  -8241.84895493,  -1465.9240939 ,     57.30125912,\n",
       "        -3100.96338851,  -3766.73554365,  -5319.35198988,  -6273.28464594,\n",
       "        -2805.13564587,  -3967.36170172,   1266.80863884,  -6231.11481653,\n",
       "        -3306.70104106,  -5325.74135797,  -3254.94715952,  -7914.07437183,\n",
       "        -2195.58992995,  -4686.16561201,  -3996.11385813,  -1018.02939068,\n",
       "        -3034.51396036,  -6215.14139631,  -2568.09008968,  -3458.76800163,\n",
       "        -2815.99757163,  -1523.42840672,  -2571.92371054,  -4716.19564204,\n",
       "        -2754.65963795,  -3874.71586439,  -3170.60750071,  -1630.13085385,\n",
       "        -3093.93508361,  -7763.28528488,  -7309.00121357,  -4829.28745726,\n",
       "        -7420.81515517,  -3657.47734928,  -4300.88671609,  -7597.80065131,\n",
       "         3282.6542717 ,  -4131.56846167,  -5192.20356486,  -9682.65145956,\n",
       "        -6264.33953061,  -3251.11353866,  -2305.48706112,  -2585.34138353,\n",
       "        -2950.81323836,  -4697.02753777,  -2841.555044  ,  -1265.29793582,\n",
       "         1537.07890911,  -4491.28988522,   2147.90249865,  -4217.1859941 ,\n",
       "         1779.23595977,  -3789.09833197,  -3408.29199371,  -6530.13724322,\n",
       "        -2883.7248734 ,  -3529.68998745,  -3944.9989134 ,  -1290.85540819,\n",
       "        -6181.27774542,  -3681.75694803,   2039.92217791,  -2988.5105101 ,\n",
       "        -1971.32310993,  -6334.62257962,  -5158.97885078,   3671.12785167,\n",
       "        -3711.78697806,  -4459.98198157,  -5015.21806872,  -6252.19973124,\n",
       "        -5923.78621133,  -4359.66890254,  -7672.55625798,  -4102.81630526,\n",
       "        -4199.93470025,  -2791.71797288,  -1363.69420443,   3086.50067129,\n",
       "        -4416.53427855,  -2718.87917664,  -7266.83138417,  -3244.08523376,\n",
       "        -8033.55555515,  -2897.7814832 ,  -1442.92236877,  -7739.64462294,\n",
       "        -9487.77573277,  -4963.46418718,  -4328.36099889,  -2798.10734097,\n",
       "        -4051.06242372,  -1545.15225823,   1542.82934039,   2664.80237725,\n",
       "         1477.01884905,  -1593.71145573,  -5038.85873066,  -5969.15072478,\n",
       "        -2069.08044173,  -6325.67746429,  -1608.40700234,  -7466.81860543,\n",
       "         2774.69950843,  -7187.60321983,  -1837.78531682,   3103.11302833,\n",
       "        -5232.45658383,  -2665.20848467,   -565.023193  ,  -3612.75177264,\n",
       "        -3550.77490215,  -5347.46520948,   -998.2223496 ,  -5496.97642282,\n",
       "        -1351.55440506,  -1577.7380355 ,  -3311.17359872,  -4889.98645413,\n",
       "        -4567.32336551,  -7908.32394055,  -1846.73043215,  -3225.5560663 ,\n",
       "        -9876.24931273,  -5144.28330417,  -1002.05597045,  -8849.47786043,\n",
       "        -1619.26892809,  -3902.19014718,  -4084.9260746 ,   3897.3114821 ,\n",
       "        -2397.49396164,  -4652.30196113,  -2544.44942774,  -3630.00306649,\n",
       "        -6404.90562862,  -3343.12043918,  -2079.94236749,  -3603.80665731,\n",
       "        -3304.14529382,  -3023.6520346 ,   3957.37154216,  -4049.14561329,\n",
       "        -9902.44572191,   3435.36016909,   2252.68813535,  -2613.45460313,\n",
       "        -5206.89911147,  -4394.81042704,  -3075.40591615,  -3996.11385813,\n",
       "        -2845.38866485,  -4739.19736717,  -4454.8704871 ,  -3006.40074076,\n",
       "        -6736.51383257,  -3399.34687838,  -7211.88281858,  -5022.88531043,\n",
       "        -3715.62059891,  -5222.8725317 ,  -4058.72966543,  -6034.96121613,\n",
       "        -2644.12356997, -13438.96096055,   3820.63906501,  -8091.69880478,\n",
       "        -2563.61753202,   -714.53440634, -10684.50437631,  -7082.17864632,\n",
       "        -2583.4245731 ,  -2843.47185442,  -2524.64238666,  -4921.29435778,\n",
       "         1737.06613037,  -4610.13213172,  -6514.8027598 ,   1735.14931994,\n",
       "         2496.12305964,  -4445.92537177,  -2985.95476286,  -5548.09136755,\n",
       "        -4208.87981558,  -4695.74966415,  -6652.81311057,  -4646.55152984,\n",
       "        -2992.34413096,  -2950.81323836,  -3338.64788151,  -6251.56079443,\n",
       "        -3893.88396867,  -4162.87636532,  -3343.75937599,  -2987.23263648,\n",
       "        -4122.62334634,  -4225.49217261,  -6075.2142351 ,   -471.73841886,\n",
       "        -6832.35435394,  -2200.06248761,  -5987.04095544,  -4419.09002579,\n",
       "        -3978.22362747,  -3041.54226526,   1276.39269097,   3842.36291652,\n",
       "        -1733.63861693,  -2831.97099186,  -1014.19576983,  -5067.61088707,\n",
       "        -5868.19870894,   2565.12823503,  -3213.41626692,  -5673.32298215,\n",
       "        -3035.15289717,  -3900.91227357,  -6640.03437439,  -4875.92984433,\n",
       "        -3977.58469066,  -3769.29129088,  -4721.30713651,   1590.74960107,\n",
       "        -3046.65375973,  -2785.32860479,  -5008.82870063,  -5858.6146568 ,\n",
       "        -4133.4852721 ,  -5850.30847828,  -4700.86115862,  -4988.38272274,\n",
       "        -2726.54641835,   3317.79579621,   4143.94109044,  -3718.17634615,\n",
       "        -2034.57785404,   2020.11513682,   1532.60635144,  -2340.62858562,\n",
       "        -3790.37620558,  -3274.11526379,  -2405.80014016,  -4596.71445873,\n",
       "          266.87253252,  -6754.40406323,   2493.5673124 ,   2917.18241687,\n",
       "         2607.93700124,  -7679.58456288,  -3108.63063022,  -4633.77279366,\n",
       "        -4118.78972549,  -6727.56871724,  -4171.18254384,  -7400.36917728,\n",
       "        -4324.52737803,  -2485.6672413 ,   2410.88710566,  -2176.42182567,\n",
       "        -1811.58890765,  -3999.30854218,  -2499.08491429,  -7167.79617875,\n",
       "        -3773.76384855,  -4051.70136053,  -2720.79598707,  -3296.47805211,\n",
       "        -3383.37345816,  -4957.7137559 ,   2977.99359639,  -2159.80946863,\n",
       "        -2090.80429325,    882.16526106,  -1955.98862652,  -4465.73241285,\n",
       "        -3739.26126085,  -2408.35588739,  -1630.76979066,  -2560.42284797,\n",
       "        -1388.61273999,  -2824.30375015,  -4490.65094841,  -1875.48258856,\n",
       "        -4325.16631484,  -1793.69867699,  -3456.2122544 ,  -4594.15871149,\n",
       "        -3236.41799205,  -3805.07175219,  -6200.4458497 ,   3249.8848399 ,\n",
       "        -3368.03897474,  -9087.80129024,  -2720.79598707,  -4229.32579347,\n",
       "        -4709.80627395,  -5178.78589187,    776.74410622,  -6718.62360192,\n",
       "        -6318.01022258,  -6794.6570822 ,  -2317.62686049,  -1324.71905908,\n",
       "        -5213.28847956,  -5841.36336295,  -2755.29857476,  -5436.91636276,\n",
       "         -101.79400636,  -1508.0939233 ,  -4315.0891705 ,  -6091.04545465,\n",
       "        -1760.1111617 ,  -5515.27576253,  -2422.51286769,  -5065.45569056,\n",
       "         1708.50139328,  -4692.93803095,  -2882.32894126,  -3052.92736855,\n",
       "        -5976.42463631,  -1983.35519742,  -9541.66520675,  -3459.43143359,\n",
       "        -4623.63241987,  -4452.36759246,  -1304.95988888,  -4407.71878532,\n",
       "        -5052.12768843,   3176.58082817,   1698.50539168,  -2814.35613038,\n",
       "        -6906.71918516,  -2198.60243186,  -2510.47768176,  -5486.62055794,\n",
       "        -1125.03186009,   1865.10541833,  -5608.57177746,  -5139.42610239,\n",
       "        -3178.2105886 ,  -3564.72265044,  -3654.02026473,  -9378.39718063,\n",
       "        -2244.58403922,  -4201.80115237,  -6529.53672481,  -1236.3206779 ,\n",
       "        -2968.96095512,  -3194.20419116,  -3597.37625566,   3189.24243019,\n",
       "        -2494.4840792 ,  -6957.36559326,  -3807.95868936,  -4898.8556639 ,\n",
       "        -5687.87339014,  -2462.49687408,  -5328.01733257,  -7395.85686342,\n",
       "        -2399.85526406,  -7195.27043133,  -8816.62189074,  -4879.53006081,\n",
       "        -4868.201259  ,  -3610.03785769,   4200.83779205,  -3111.57057794,\n",
       "        -5202.73411252,  -6414.91590647,  -9126.49794032,  -5063.45649024,\n",
       "        -4161.15074587,   2284.93748551,  -3106.23937708,  -5514.60936242,\n",
       "        -3875.93150023,  -3800.62828819,  -5082.11569322,   2350.91109606,\n",
       "        -5050.12848811,  -1091.71185476,  -2461.83047398,  -3472.09303562,\n",
       "         2758.08156121,  -1825.41837215,  -3066.25537069,  -4085.84753382,\n",
       "         -637.89338215,  -4580.98281304,  -6356.27269709,  -5177.41090847,\n",
       "        -2813.02333017,  -4920.18046731,    233.09155721,  -2639.09290234,\n",
       "        -5346.01013545,  -3939.23951036,  -7210.59763378,  -3165.54898657,\n",
       "        -5907.78542533,  -2594.4440952 ,  -2301.89444839,  -5984.42143759,\n",
       "        -3259.51140161,  -3730.65627699,  -3673.34586782,  -3829.94989288,\n",
       "        -5488.61975826,  -5780.50300497,  -7205.93283303,  -3682.00906921,\n",
       "        -4071.85313158,  -3833.28189341,  -1458.89831351,    504.31640061,\n",
       "        -4295.76356741,  -4225.1251561 ,   -246.05011945,  -8983.2219174 ,\n",
       "        -2159.28482557,  -2801.69452836,  -5806.49260912,  -2021.3400035 ,\n",
       "        -6202.33427246,   3045.30000716,  -3690.67227059,   -155.41970495,\n",
       "        -6293.63108707,  -4311.75716997,    595.61321521,  -5194.73731124,\n",
       "          369.70357907,  -5162.75010612,  -2938.97295032,  -3953.2339126 ,\n",
       "        -2444.50407121,    806.19564891,  -5368.00133896,  -1324.28549197,\n",
       "        -3103.57377666,  -5277.37092446,  -3304.82660886,  -6251.64788035,\n",
       "        -5569.25417117,  -5529.27016477,  -3305.49300896,  -8612.03705801,\n",
       "        -4293.09796698,  -4325.7515722 ,  -3398.78902389,  -2969.62735523,\n",
       "        -6413.58310626,   3563.75929012,  -4532.33560526,  -4073.18593179,\n",
       "         3307.86164917,  -4225.79155621,   -773.17260379,  -7269.90724327,\n",
       "         2040.36864637,  -4497.68279971,   2141.66146258,   2188.97587015,\n",
       "        -3815.95549064,   -479.95655688,  -2551.79448837,  -5597.90937575,\n",
       "        -3296.16340747,  -4048.52912785,  -3568.05465097,  -8388.12662218,\n",
       "         2616.8047386 ,  -4952.16767243,  -7520.47368336,  -5154.75330485,\n",
       "        -3749.98188008,  -4051.86112838,  -5011.47728192,  -4130.49634096,\n",
       "        -3522.07304362,   3509.78088148,  -3427.44422848,  -4004.54672081,\n",
       "        -4802.89404855,  -4445.7035914 ,  -3132.89538135,  -4338.41317423,\n",
       "        -4960.16447371,  -4063.1899302 ,  -3873.26589981,  -5735.18779771,\n",
       "        -6838.07997418,  -5387.99334216,  -7525.13848411,  -4992.15167883,\n",
       "        -5991.75183876,  -7285.23444572,  -3131.56258113,  -3465.42903455,\n",
       "        -7259.24484156,  -4220.46035536,  -3409.4514256 ,  -5753.18060059,\n",
       "        -1643.49114304,   2618.13753882,  -3520.0738433 ,  -2373.8656599 ,\n",
       "        -6938.70639028,  -5036.80048597,  -2909.65134563,  -4984.15487755,\n",
       "        -3899.92190407,  -6904.05358473,  -4010.54432177,  -5350.67493619,\n",
       "        -2742.38491887,  -6664.81594646,  -6165.68226659,  -7213.26323421,\n",
       "        -6886.06078185,   3315.85845045,  -1639.4927424 ,  -3432.10902922,\n",
       "        -1166.3486667 ,  -6235.65427779,  -4894.85726326,  -5257.37892127,\n",
       "        -9087.84673414,  -4058.52512945,  -6208.99827352,  -5551.26136829,\n",
       "        -3586.71385396,  -5059.4580896 ,  -4779.57004482,  -5320.68693139,\n",
       "        -4245.78355941,  -4481.68919715,  -3385.46102176,  -4154.4867448 ,\n",
       "        -4590.31241453,  -6111.70385796,  -5326.01813225,  -8536.73384596,\n",
       "         -288.03332617,   -541.26536669,  -3593.37785503,   3645.06010312,\n",
       "        -5119.43409919,  -4148.48914384,  -7587.11369402,  -2453.8336727 ,\n",
       "        -1534.86792566,  -5416.64854675,  -1195.67027139,  -5413.98294632,\n",
       "        -4169.81394725,  -1625.49834016,  -6620.83353942,  -5442.63815091,\n",
       "        -6320.28709133,   1797.13260746,  -4987.48687808,  -5107.43889727,\n",
       "        -3386.79382197,  -5296.03012745,  -2671.08010746,  -7107.97201736,\n",
       "        -5635.89418183,  -4423.71238788,  -7847.67613571,   2987.98959799,\n",
       "        -6244.98387928,  -4574.98521208,  -3993.88431911,  -4001.21472028,\n",
       "        -4538.33320622,  -3123.56577986,  -4063.8563303 ,  -5838.47981424,\n",
       "        -3863.93629831,  -4477.69079652,  -2676.41130831,   4398.52863619,\n",
       "        -3896.58990354,  -4551.66120835,  -5805.15980891,  -5807.15900923,\n",
       "        -7744.38411919,  -5178.07730858,  -3246.18339947,  -5222.05971561,\n",
       "        -5939.77263045,  -5924.445428  ,  -5164.74930644,  -5066.78849077,\n",
       "        -2525.80488421,  -4003.88032071,  -4481.68919715,  -2936.30734989,\n",
       "        -5028.80368469,  -5699.20219196,  -4923.51246785,  -2974.95855608,\n",
       "        -1155.68626499,  -1683.47514944,  -4099.17553595,  -5060.1244897 ,\n",
       "        -3401.45462432,  -6933.37518942,  -3284.83460566,  -3505.41304095,\n",
       "        -5851.14141627,  -5885.79422181,  -3289.4994064 ,  -4942.83807094,\n",
       "        -2507.81208133,   3592.88752743,  -6906.71918516,  -5183.40850943,\n",
       "         4288.30007403,  -1978.02399657,  -2840.34573454,  -4976.82447638,\n",
       "        -2251.91444039,  -1684.14154955,   3764.71440374,  -6234.98787768,\n",
       "        -3286.16740587,  -5735.18779771,   4619.79626466,  -8119.56737922,\n",
       "        -3703.33387262,  -5603.2405766 ,  -2906.3193451 ,  -2601.77449637,\n",
       "        -5300.02852809,   1785.46330956,  -4257.77876133,  -2741.05211865,\n",
       "        -3648.68906387,  -3106.90577719,  -5102.77409653,  -4343.74437508,\n",
       "        -6360.27109773,   2339.03763279,  -4644.26598206,  -4629.67690765,\n",
       "        -5087.61174312,  -4621.57186632,  -4834.73445345,  -4533.22691576,\n",
       "        -4953.87856108,  -4055.83998109,  -3298.82912033,  -7828.73672286,\n",
       "        -7677.98295401,  -3514.42321986,  -4767.46261036,  -9860.67058572,\n",
       "        -7056.32628357,  -2423.48465607,  -3609.25220349,  -3873.47655103,\n",
       "        -5332.38399146,  -1563.53977035,  -6052.9221662 ,   -227.0184541 ,\n",
       "        -6509.2359934 ,  -3503.07616199,  -7905.73461555,  -4122.30132004,\n",
       "        -4282.78113849,  -6715.91454747,    446.5104809 ,  -2081.45191171,\n",
       "        -7296.2355071 ,   1546.36459016,  -4658.85505646,  -5518.79994218,\n",
       "        -6236.09610039,  -2983.54301237,  -4078.53409683,  -6109.65745555,\n",
       "        -3023.25771492,  -1550.57170422,  -4261.70803101,  -2040.11620089,\n",
       "        -1071.56376128,  -1698.89396066,  -2536.14473064,  -4018.55679094,\n",
       "        -2494.80901983,   2486.5493851 ,  -6756.43975414,  -4490.27019668,\n",
       "        -1325.25155508,  -4111.7647663 ,  -7464.82036689,  -4328.16936997,\n",
       "         2390.90989734,   4239.66982601,  -2506.1560777 ,  -8015.15267358,\n",
       "        -4076.10258442,  -8685.43959204,  -2269.48887069,  -1012.39695953,\n",
       "        -1720.77757227,  -3283.42954179,   -603.90287621,  -2981.9220041 ,\n",
       "        -2209.51156481,  -2600.17455719,   -492.05330577,  -7105.76703571,\n",
       "        -4561.59456043,  -2027.95863889,  -3918.86478251,   4296.40511536,\n",
       "        -2556.40733398,  -4162.01602258,  -6480.86834873,  -6365.77676176,\n",
       "        -5190.54576808,  -6353.61919976,  -2575.85943318,  -3934.26436105,\n",
       "        -1399.81793537,  -2687.70900362,  -1192.32887718,  -4483.78616361,\n",
       "        -2496.43002809,  -1651.07421678,  -3867.8030221 ,  -3939.12738585,\n",
       "        -2329.46617658,  -6470.33179499,  -3762.43748473,  -2655.28883827,\n",
       "        -3290.72407899,  -2099.28300264,  -4760.16807316,  -6116.14148862,\n",
       "           26.66933971,  -6399.81793537,  -4650.75001513,  -4296.55970876,\n",
       "          423.81636516,   2889.36993949,  -1638.10615064,  -5783.83479386,\n",
       "        -4566.45758523,  -1966.36032474,  -3169.95896309,  -3864.56100556,\n",
       "        -6168.01375317,  -3325.57575674,  -6890.98344032,  -3265.59845085,\n",
       "        -4527.55338682,  -2989.21654131,  -6565.97128275,  -3369.34297995,\n",
       "        -1776.70235748,  -5825.17050467,   2563.54727779,  -1715.91454747,\n",
       "        -4276.29710542,  -3260.73542605,  -5209.18736316,  -3881.58159237,\n",
       "        -5010.61385043,  -4734.23194088,  -8156.99089695,  -2418.62163127,\n",
       "        -6850.45823364,    259.28402605,  -3468.22448425,  -9169.31055979,\n",
       "         2474.3918231 ,  -3092.9610704 ,  -4506.48027935,  -4939.28948668,\n",
       "        -4136.89039444,  -5543.11506619,  -5687.38480196,  -5253.7650905 ,\n",
       "        -6350.37718322,  -5871.36924028,  -2579.10144972,  -5034.92897444,\n",
       "        -1549.76120008,  -5694.67933917,  -4383.28365105,  -3459.30893878,\n",
       "        -5088.42224725,  -6629.19060517,  -1389.28138164,  -3258.30391365,\n",
       "         1549.60660669,  -6499.5099438 ,  -4165.25803912,  -5619.30245474,\n",
       "        -4584.28867617,  -6418.45953044,  -3977.22108013,   2106.42294646,\n",
       "        -5327.52096666,  -5120.03190846,  -2569.37540012,  -1318.76752202,\n",
       "        -6826.95361376,  -5451.52809909,  -3862.12949316,  -4486.21767601,\n",
       "        -2575.85943318,   4310.18368564,  -9683.9806846 ,  -2853.05184687,\n",
       "        -5742.49908305,   4775.41305831,  -2855.48335927,  -4993.59326363,\n",
       "        -4763.41008969,  -2007.69603555,  -3731.63832766,  -4825.00840384,\n",
       "        -3469.84549251,  -2718.50816069,  -2412.94810234,  -4153.91098125,\n",
       "        -7194.11198627,  -5133.81047873,  -3262.35643432,  -1178.55030691,\n",
       "        -3708.94421192,  -8293.96609553,  -5723.04698384,  -4382.47314691,\n",
       "        -4261.70803101,  -5367.2356692 ,  -5243.22853677,  -5007.3718339 ,\n",
       "        -6167.20324904,  -4783.67269303,  -3245.33584751,   4652.21643   ,\n",
       "        -3485.24507105,  -2372.42289566,  -4076.10258442,   -790.31882693,\n",
       "        -3228.31526071,  -5793.56084346,  -2843.32579726,  -4840.40798238,\n",
       "        -8594.66312908,  -4116.6277911 ,  -4401.92524612,  -4820.95588318,\n",
       "        -3657.8824515 ,   3571.00391582, -10450.71759496,  -3310.1761782 ,\n",
       "        -4059.89250175,  -4011.26225374,  -1369.0187783 ,  -7910.59764035,\n",
       "        -1617.8435473 ,  -7311.63508564,  -3278.56651699,  -6724.83009293,\n",
       "        -6204.48643918,  -3570.34800508,  -2444.55776355,  -1746.71370454,\n",
       "        -3965.87402226,  -6339.84062949,  -1987.43343221,  -7268.67836656,\n",
       "         2188.28386395,  -2009.31704382,  -3767.30050953,  -6101.55241422,\n",
       "        -3483.62406278,  -1421.70154698,  -5226.20794996,  -2623.67917707,\n",
       "         3476.17493219,  -1641.34816718,  -3469.84549251,  -2713.64513589,\n",
       "        -3571.96901334,  -1235.28559626,  -6832.6271427 ,  -2312.44558977,\n",
       "         -771.67723186,  -1883.68890311,  -4497.56473388,  -6527.06708434,\n",
       "        -4746.38950289,   3147.11025396,  -3703.27068298,  -6269.32676987,\n",
       "        -4142.56392338,  -4043.68241908,  -1586.23388609,  -2846.5678138 ,\n",
       "        -3660.3139639 ,  -1430.61709245,   3957.61438753,  -6149.3721581 ,\n",
       "        -5547.16758686,  -3165.90644242,  -4044.49292322,  -4299.80172529,\n",
       "         -178.38820608,  -5507.45288431,  -5605.52388447,  -3550.89590587,\n",
       "        -1610.5490101 ,  -1396.57591884,  -5433.69700816,  -4442.4504528 ,\n",
       "         3618.8236597 ,   3912.22615605,   -539.87304965,  -3370.15348408,\n",
       "        -2763.89639217,  -3383.93205435,  -4201.73072513,  -5513.12641325,\n",
       "        -3606.82069109,  -1084.53182741,  -5438.56003296,  -5272.40668558,\n",
       "        -7374.85440806,  -5080.31720592,   -655.77514075,  -5188.92475982,\n",
       "        -1505.18347274,  -6215.02299292,  -6192.32887718,  -5294.29029718,\n",
       "         5624.01088615,  -3351.51188901,  -3563.05346787,  -2810.90563192,\n",
       "        -5135.431487  ,  -4922.26889987,   -525.28397525,  -3932.64335278,\n",
       "        -2374.85440806,  -3845.91941049,  -8884.8236089 ,  -1246.63265413,\n",
       "        -3380.69003782,  -3554.1379224 ,   3537.77324634,  -5931.34654617,\n",
       "        -7329.46617658,  -7706.35059869,  -5050.32855298,  -2332.70819311,\n",
       "        -5038.17099097,  -6001.04990166,  -3713.80723672,  -4098.79670016,\n",
       "        -4598.87775058,  -3523.33876533,  -4127.16434484,  -4525.93237856])"
      ]
     },
     "execution_count": 33,
     "metadata": {},
     "output_type": "execute_result"
    }
   ],
   "source": [
    "y_scores = cross_val_predict(sgd_clf,X_train,y_train_5,cv=3,method = \"decision_function\")\n",
    "y_scores"
   ]
  },
  {
   "cell_type": "code",
   "execution_count": 18,
   "id": "ea97fd5f",
   "metadata": {},
   "outputs": [],
   "source": [
    "from sklearn.metrics import precision_recall_curve[]\n",
    "precisions, recalls, thresholds = precision_recall_curve(y_train_5,y_scores)"
   ]
  },
  {
   "cell_type": "code",
   "execution_count": 19,
   "id": "b59891cb",
   "metadata": {},
   "outputs": [
    {
     "data": {
      "image/png": "[encoded data removed]",
      "text/plain": [
       "<Figure size 640x480 with 1 Axes>"
      ]
     },
     "metadata": {},
     "output_type": "display_data"
    }
   ],
   "source": [
    "def plot_precision_recall_vs_threshold(precisions, recalls, thresholds):\n",
    "    plt.plot(thresholds, precisions[:-1], \"b--\", label=\"Precision\")\n",
    "    plt.plot(thresholds, recalls[:-1], \"g-\", label=\"Recall\")\n",
    "    plt.xlabel(\"Threshold\")\n",
    "    plt.legend(loc=\"upper left\")\n",
    "    plt.ylim([0, 1])\n",
    "plot_precision_recall_vs_threshold(precisions, recalls, thresholds)\n",
    "plt.show()\n"
   ]
  },
  {
   "cell_type": "markdown",
   "id": "e08fe893",
   "metadata": {},
   "source": [
    "It's important to note that meeting at (0,0) is not the desired outcome for most classification problems since it signifies a lack of positive predictions. Usually, a balance between precision and recall is sought, and the curve is expected to rise to higher precision and recall values as the threshold decreases"
   ]
  },
  {
   "cell_type": "code",
   "execution_count": 24,
   "id": "b939cc1c",
   "metadata": {},
   "outputs": [
    {
     "data": {
      "image/png": "[encoded data removed]",
      "text/plain": [
       "<Figure size 640x480 with 1 Axes>"
      ]
     },
     "metadata": {},
     "output_type": "display_data"
    }
   ],
   "source": [
    "plt.plot(recalls,precisions)\n",
    "plt.xlabel(\"Precisons\")\n",
    "plt.ylabel(\"Recall\")\n",
    "plt.show()"
   ]
  },
  {
   "cell_type": "code",
   "execution_count": 34,
   "id": "2059be13",
   "metadata": {},
   "outputs": [
    {
     "data": {
      "text/plain": [
       "array([False, False, False, False, False,  True, False, False, False,\n",
       "       False, False, False, False, False,  True, False, False, False,\n",
       "       False, False, False, False, False, False, False, False, False,\n",
       "       False, False, False, False, False, False, False,  True, False,\n",
       "       False, False, False, False, False, False, False, False, False,\n",
       "       False, False, False, False, False, False, False, False, False,\n",
       "       False, False, False, False, False, False, False, False, False,\n",
       "       False,  True, False, False, False, False, False, False, False,\n",
       "       False, False, False, False,  True, False,  True, False,  True,\n",
       "       False, False, False, False, False, False, False, False, False,\n",
       "        True, False, False, False, False,  True, False, False, False,\n",
       "       False, False, False, False, False, False, False, False,  True,\n",
       "       False, False, False, False, False, False, False, False, False,\n",
       "       False, False, False, False, False,  True,  True,  True, False,\n",
       "       False, False, False, False, False, False,  True, False, False,\n",
       "        True, False, False, False, False, False, False, False, False,\n",
       "       False, False, False, False, False, False, False, False, False,\n",
       "       False, False, False, False, False, False,  True, False, False,\n",
       "       False, False, False, False, False, False, False, False,  True,\n",
       "       False, False,  True,  True, False, False, False, False, False,\n",
       "       False, False, False, False, False, False, False, False, False,\n",
       "       False, False, False, False, False,  True, False, False, False,\n",
       "       False, False, False, False, False, False,  True, False, False,\n",
       "        True,  True, False, False, False, False, False, False, False,\n",
       "       False, False, False, False, False, False, False, False, False,\n",
       "       False, False, False, False, False, False, False, False, False,\n",
       "        True,  True, False, False, False, False, False,  True, False,\n",
       "       False, False, False, False, False, False, False, False,  True,\n",
       "       False, False, False, False, False, False, False, False, False,\n",
       "        True,  True, False, False,  True,  True, False, False, False,\n",
       "       False, False, False, False,  True,  True,  True, False, False,\n",
       "       False, False, False, False, False, False, False,  True, False,\n",
       "       False, False, False, False, False, False, False, False, False,\n",
       "       False,  True, False, False,  True, False, False, False, False,\n",
       "       False, False, False, False, False, False, False, False, False,\n",
       "       False, False, False, False,  True, False, False, False, False,\n",
       "       False, False,  True, False, False, False, False, False, False,\n",
       "       False, False, False, False, False, False, False, False, False,\n",
       "       False, False,  True, False, False, False, False, False, False,\n",
       "       False, False, False, False, False, False,  True,  True, False,\n",
       "       False, False, False, False, False,  True, False, False, False,\n",
       "       False, False, False, False, False, False, False, False, False,\n",
       "       False,  True, False, False, False, False, False, False, False,\n",
       "       False, False, False, False, False, False, False,  True, False,\n",
       "       False, False, False, False, False,  True, False, False, False,\n",
       "       False, False,  True, False, False, False, False,  True, False,\n",
       "       False, False, False, False, False, False, False, False, False,\n",
       "       False, False, False, False, False, False, False, False, False,\n",
       "       False, False, False, False, False, False, False, False, False,\n",
       "       False, False, False, False, False, False, False, False, False,\n",
       "       False, False, False,  True, False, False, False, False, False,\n",
       "       False, False, False, False, False, False,  True, False, False,\n",
       "       False, False, False, False, False, False, False, False, False,\n",
       "       False, False, False, False,  True, False, False,  True, False,\n",
       "       False, False,  True, False,  True,  True, False, False, False,\n",
       "       False, False, False, False, False,  True, False, False, False,\n",
       "       False, False, False, False, False,  True, False, False, False,\n",
       "       False, False, False, False, False, False, False, False, False,\n",
       "       False, False, False, False, False, False, False, False, False,\n",
       "       False, False,  True, False, False, False, False, False, False,\n",
       "       False, False, False, False, False, False, False, False, False,\n",
       "        True, False, False, False, False, False, False, False, False,\n",
       "       False, False, False, False, False, False, False, False, False,\n",
       "       False, False, False, False, False, False, False, False,  True,\n",
       "       False, False, False, False, False, False, False, False, False,\n",
       "       False, False, False, False,  True, False, False, False, False,\n",
       "       False, False, False, False, False,  True, False, False, False,\n",
       "       False, False, False, False, False, False, False, False,  True,\n",
       "       False, False, False, False, False, False, False, False, False,\n",
       "       False, False, False, False, False, False, False, False, False,\n",
       "       False, False, False, False, False, False, False, False, False,\n",
       "       False, False, False, False, False, False,  True, False, False,\n",
       "        True, False, False, False, False, False,  True, False, False,\n",
       "       False,  True, False, False, False, False, False, False,  True,\n",
       "       False, False, False, False, False, False, False,  True, False,\n",
       "       False, False, False, False, False, False, False, False, False,\n",
       "       False, False, False, False, False, False, False, False, False,\n",
       "       False, False, False, False, False, False, False, False, False,\n",
       "       False, False, False,  True, False, False, False, False, False,\n",
       "       False, False, False, False, False, False, False, False, False,\n",
       "       False,  True, False, False, False, False, False, False,  True,\n",
       "        True, False, False, False, False, False, False, False, False,\n",
       "       False, False, False, False, False, False, False, False, False,\n",
       "        True, False, False, False, False, False, False, False, False,\n",
       "       False, False, False, False, False, False, False, False, False,\n",
       "       False, False, False, False, False, False, False, False, False,\n",
       "       False, False, False,  True, False, False, False, False, False,\n",
       "       False, False, False, False, False, False, False, False, False,\n",
       "       False, False,  True, False, False, False, False, False, False,\n",
       "       False, False, False, False, False, False, False,  True, False,\n",
       "       False, False, False, False, False, False, False, False, False,\n",
       "       False, False, False, False, False, False, False, False, False,\n",
       "        True, False, False, False, False, False, False,  True, False,\n",
       "       False, False, False, False, False, False, False, False,  True,\n",
       "       False, False, False,  True, False, False, False, False, False,\n",
       "       False, False, False, False, False, False, False, False, False,\n",
       "       False, False, False, False, False, False, False, False, False,\n",
       "       False, False,  True, False, False, False, False, False, False,\n",
       "       False, False, False, False, False, False, False,  True, False,\n",
       "       False, False, False, False, False, False, False, False, False,\n",
       "       False, False, False, False, False, False, False, False,  True,\n",
       "       False, False, False, False, False, False, False,  True, False,\n",
       "       False, False, False, False, False, False, False, False, False,\n",
       "       False, False,  True, False, False, False, False, False, False,\n",
       "       False, False,  True, False, False, False, False, False, False,\n",
       "       False, False, False, False, False, False, False,  True,  True,\n",
       "       False, False, False, False, False, False, False, False, False,\n",
       "       False, False, False, False, False, False, False, False, False,\n",
       "        True, False, False, False, False, False, False, False, False,\n",
       "       False, False, False, False, False,  True, False, False, False,\n",
       "       False, False, False, False, False, False, False, False, False,\n",
       "       False])"
      ]
     },
     "execution_count": 34,
     "metadata": {},
     "output_type": "execute_result"
    }
   ],
   "source": [
    "y_train_pred_90 =  (y_scores>700)\n",
    "\n",
    "y_train_pred_90"
   ]
  },
  {
   "cell_type": "code",
   "execution_count": 35,
   "id": "f8bb7280",
   "metadata": {},
   "outputs": [
    {
     "data": {
      "text/plain": [
       "0.978021978021978"
      ]
     },
     "execution_count": 35,
     "metadata": {},
     "output_type": "execute_result"
    }
   ],
   "source": [
    "precision_score(y_train_5,y_train_pred_90)"
   ]
  },
  {
   "cell_type": "markdown",
   "id": "f12d3ad6",
   "metadata": {},
   "source": [
    "Receiver Opening characteristics(ROC)"
   ]
  },
  {
   "cell_type": "code",
   "execution_count": 38,
   "id": "43606f46",
   "metadata": {},
   "outputs": [
    {
     "data": {
      "text/plain": [
       "array([0.  , 0.01, 0.8 , 0.8 , 0.89, 0.89, 0.91, 0.91, 0.92, 0.92, 0.93,\n",
       "       0.93, 0.94, 0.94, 0.95, 0.95, 0.96, 0.96, 0.97, 0.97, 0.98, 0.98,\n",
       "       0.99, 0.99, 1.  , 1.  ])"
      ]
     },
     "execution_count": 38,
     "metadata": {},
     "output_type": "execute_result"
    }
   ],
   "source": [
    "from sklearn.metrics import roc_curve\n",
    "\n",
    "fpr,tpr, thresholds = roc_curve(y_train_5,y_scores)\n"
   ]
  },
  {
   "cell_type": "markdown",
   "id": "2c8131ac",
   "metadata": {},
   "source": [
    "Not Nice Curve "
   ]
  },
  {
   "cell_type": "code",
   "execution_count": 39,
   "id": "1b478ea7",
   "metadata": {},
   "outputs": [
    {
     "data": {
      "image/png": "[encoded data removed]",
      "text/plain": [
       "<Figure size 640x480 with 1 Axes>"
      ]
     },
     "metadata": {},
     "output_type": "display_data"
    }
   ],
   "source": [
    "def plot_roc_curve(fpr, tpr, label=None):\n",
    "    plt.plot(fpr, tpr, linewidth=2, label=label)\n",
    "    plt.plot([0, 1], [0, 1], 'k--')\n",
    "    plt.axis([0, 1, 0, 1])\n",
    "    plt.xlabel('False Positive Rate')\n",
    "    plt.ylabel('True Positive Rate')\n",
    "plot_roc_curve(fpr, tpr)\n",
    "plt.show()"
   ]
  },
  {
   "cell_type": "code",
   "execution_count": 40,
   "id": "5c06be50",
   "metadata": {},
   "outputs": [
    {
     "data": {
      "text/plain": [
       "0.9971666666666666"
      ]
     },
     "execution_count": 40,
     "metadata": {},
     "output_type": "execute_result"
    }
   ],
   "source": [
    "from sklearn.metrics import roc_auc_score\n",
    "roc_auc_score(y_train_5,y_scores)"
   ]
  },
  {
   "cell_type": "code",
   "execution_count": 42,
   "id": "1ee8ca7c",
   "metadata": {},
   "outputs": [],
   "source": [
    "from sklearn.ensemble import RandomForestClassifier\n",
    "\n",
    "forest_clf = RandomForestClassifier(random_state =42)\n",
    "y_probas_forest = cross_val_predict(forest_clf,X_train,y_train_5,cv =3,method= \"predict_proba\")"
   ]
  },
  {
   "cell_type": "code",
   "execution_count": 46,
   "id": "97ccd4e6",
   "metadata": {},
   "outputs": [],
   "source": [
    "y_scores_forest = y_probas_forest[:,1]\n",
    "fpr_forest, tpr_forest, thresholds_forest = roc_curve(y_train_5,y_scores_forest)"
   ]
  },
  {
   "cell_type": "code",
   "execution_count": 48,
   "id": "835a759a",
   "metadata": {},
   "outputs": [
    {
     "data": {
      "image/png": "[encoded data removed]",
      "text/plain": [
       "<Figure size 640x480 with 1 Axes>"
      ]
     },
     "metadata": {},
     "output_type": "display_data"
    }
   ],
   "source": [
    "plt.plot(fpr, tpr, \"b:\", label=\"SGD\")\n",
    "plot_roc_curve(fpr_forest, tpr_forest, \"Random Forest\")\n",
    "plt.legend(loc=\"lower right\")\n",
    "plt.show()"
   ]
  },
  {
   "cell_type": "code",
   "execution_count": 50,
   "id": "bbd6ac2a",
   "metadata": {},
   "outputs": [
    {
     "data": {
      "text/html": [
       "<style>#sk-container-id-2 {color: black;background-color: white;}#sk-container-id-2 pre{padding: 0;}#sk-container-id-2 div.sk-toggleable {background-color: white;}#sk-container-id-2 label.sk-toggleable__label {cursor: pointer;display: block;width: 100%;margin-bottom: 0;padding: 0.3em;box-sizing: border-box;text-align: center;}#sk-container-id-2 label.sk-toggleable__label-arrow:before {content: \"▸\";float: left;margin-right: 0.25em;color: #696969;}#sk-container-id-2 label.sk-toggleable__label-arrow:hover:before {color: black;}#sk-container-id-2 div.sk-estimator:hover label.sk-toggleable__label-arrow:before {color: black;}#sk-container-id-2 div.sk-toggleable__content {max-height: 0;max-width: 0;overflow: hidden;text-align: left;background-color: #f0f8ff;}#sk-container-id-2 div.sk-toggleable__content pre {margin: 0.2em;color: black;border-radius: 0.25em;background-color: #f0f8ff;}#sk-container-id-2 input.sk-toggleable__control:checked~div.sk-toggleable__content {max-height: 200px;max-width: 100%;overflow: auto;}#sk-container-id-2 input.sk-toggleable__control:checked~label.sk-toggleable__label-arrow:before {content: \"▾\";}#sk-container-id-2 div.sk-estimator input.sk-toggleable__control:checked~label.sk-toggleable__label {background-color: #d4ebff;}#sk-container-id-2 div.sk-label input.sk-toggleable__control:checked~label.sk-toggleable__label {background-color: #d4ebff;}#sk-container-id-2 input.sk-hidden--visually {border: 0;clip: rect(1px 1px 1px 1px);clip: rect(1px, 1px, 1px, 1px);height: 1px;margin: -1px;overflow: hidden;padding: 0;position: absolute;width: 1px;}#sk-container-id-2 div.sk-estimator {font-family: monospace;background-color: #f0f8ff;border: 1px dotted black;border-radius: 0.25em;box-sizing: border-box;margin-bottom: 0.5em;}#sk-container-id-2 div.sk-estimator:hover {background-color: #d4ebff;}#sk-container-id-2 div.sk-parallel-item::after {content: \"\";width: 100%;border-bottom: 1px solid gray;flex-grow: 1;}#sk-container-id-2 div.sk-label:hover label.sk-toggleable__label {background-color: #d4ebff;}#sk-container-id-2 div.sk-serial::before {content: \"\";position: absolute;border-left: 1px solid gray;box-sizing: border-box;top: 0;bottom: 0;left: 50%;z-index: 0;}#sk-container-id-2 div.sk-serial {display: flex;flex-direction: column;align-items: center;background-color: white;padding-right: 0.2em;padding-left: 0.2em;position: relative;}#sk-container-id-2 div.sk-item {position: relative;z-index: 1;}#sk-container-id-2 div.sk-parallel {display: flex;align-items: stretch;justify-content: center;background-color: white;position: relative;}#sk-container-id-2 div.sk-item::before, #sk-container-id-2 div.sk-parallel-item::before {content: \"\";position: absolute;border-left: 1px solid gray;box-sizing: border-box;top: 0;bottom: 0;left: 50%;z-index: -1;}#sk-container-id-2 div.sk-parallel-item {display: flex;flex-direction: column;z-index: 1;position: relative;background-color: white;}#sk-container-id-2 div.sk-parallel-item:first-child::after {align-self: flex-end;width: 50%;}#sk-container-id-2 div.sk-parallel-item:last-child::after {align-self: flex-start;width: 50%;}#sk-container-id-2 div.sk-parallel-item:only-child::after {width: 0;}#sk-container-id-2 div.sk-dashed-wrapped {border: 1px dashed gray;margin: 0 0.4em 0.5em 0.4em;box-sizing: border-box;padding-bottom: 0.4em;background-color: white;}#sk-container-id-2 div.sk-label label {font-family: monospace;font-weight: bold;display: inline-block;line-height: 1.2em;}#sk-container-id-2 div.sk-label-container {text-align: center;}#sk-container-id-2 div.sk-container {/* jupyter's `normalize.less` sets `[hidden] { display: none; }` but bootstrap.min.css set `[hidden] { display: none !important; }` so we also need the `!important` here to be able to override the default hidden behavior on the sphinx rendered scikit-learn.org. See: https://github.com/scikit-learn/scikit-learn/issues/21755 */display: inline-block !important;position: relative;}#sk-container-id-2 div.sk-text-repr-fallback {display: none;}</style><div id=\"sk-container-id-2\" class=\"sk-top-container\"><div class=\"sk-text-repr-fallback\"><pre>SGDClassifier(random_state=42)</pre><b>In a Jupyter environment, please rerun this cell to show the HTML representation or trust the notebook. <br />On GitHub, the HTML representation is unable to render, please try loading this page with nbviewer.org.</b></div><div class=\"sk-container\" hidden><div class=\"sk-item\"><div class=\"sk-estimator sk-toggleable\"><input class=\"sk-toggleable__control sk-hidden--visually\" id=\"sk-estimator-id-2\" type=\"checkbox\" checked><label for=\"sk-estimator-id-2\" class=\"sk-toggleable__label sk-toggleable__label-arrow\">SGDClassifier</label><div class=\"sk-toggleable__content\"><pre>SGDClassifier(random_state=42)</pre></div></div></div></div></div>"
      ],
      "text/plain": [
       "SGDClassifier(random_state=42)"
      ]
     },
     "execution_count": 50,
     "metadata": {},
     "output_type": "execute_result"
    }
   ],
   "source": [
    "sgd_clf.fit(X_train,y_train)"
   ]
  },
  {
   "cell_type": "code",
   "execution_count": 51,
   "id": "76690015",
   "metadata": {},
   "outputs": [
    {
     "data": {
      "text/plain": [
       "array([5])"
      ]
     },
     "execution_count": 51,
     "metadata": {},
     "output_type": "execute_result"
    }
   ],
   "source": [
    "sgd_clf.predict([some_digit])"
   ]
  },
  {
   "cell_type": "code",
   "execution_count": 53,
   "id": "faa8c2d5",
   "metadata": {},
   "outputs": [
    {
     "data": {
      "text/plain": [
       "array([[-4258.41544161, -1303.53092514, -6080.43723957, -2602.96838902,\n",
       "        -4234.44175701,   590.54876088, -5291.89443035, -1750.58396242,\n",
       "        -1064.52648448,  -229.70318363]])"
      ]
     },
     "execution_count": 53,
     "metadata": {},
     "output_type": "execute_result"
    }
   ],
   "source": [
    "some_digit_scores = sgd_clf.decision_function([some_digit])\n",
    "some_digit_scores"
   ]
  },
  {
   "cell_type": "code",
   "execution_count": null,
   "id": "28845f3d",
   "metadata": {},
   "outputs": [],
   "source": [
    "np."
   ]
  },
  {
   "cell_type": "code",
   "execution_count": null,
   "id": "bc712ca4",
   "metadata": {},
   "outputs": [],
   "source": []
  },
  {
   "cell_type": "code",
   "execution_count": null,
   "id": "6b788b46",
   "metadata": {},
   "outputs": [],
   "source": []
  },
  {
   "cell_type": "code",
   "execution_count": null,
   "id": "a7939978",
   "metadata": {},
   "outputs": [],
   "source": []
  },
  {
   "cell_type": "code",
   "execution_count": null,
   "id": "00651656",
   "metadata": {},
   "outputs": [],
   "source": []
  }
 ],
 "metadata": {
  "kernelspec": {
   "display_name": "Python 3 (ipykernel)",
   "language": "python",
   "name": "python3"
  },
  "language_info": {
   "codemirror_mode": {
    "name": "ipython",
    "version": 3
   },
   "file_extension": ".py",
   "mimetype": "text/x-python",
   "name": "python",
   "nbconvert_exporter": "python",
   "pygments_lexer": "ipython3",
   "version": "3.11.4"
  }
 },
 "nbformat": 4,
 "nbformat_minor": 5
}
