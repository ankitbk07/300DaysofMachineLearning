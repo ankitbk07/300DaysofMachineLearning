{
 "cells": [
  {
   "cell_type": "code",
   "execution_count": 2,
   "id": "19bab52a",
   "metadata": {},
   "outputs": [],
   "source": [
    "## Import packages\n",
    "import numpy as np \n",
    "import matplotlib.pyplot as plt\n",
    "import seaborn as sns\n",
    "import pandas as pd"
   ]
  },
  {
   "cell_type": "code",
   "execution_count": 3,
   "id": "da56ebd2",
   "metadata": {},
   "outputs": [],
   "source": [
    "## Load penguins data\n",
    "penguins = sns.load_dataset('penguins')\n",
    "penguins = penguins.dropna().reset_index(drop = True)\n",
    "X = penguins.drop(columns = 'species')\n",
    "y = penguins['species']\n",
    "\n",
    "## Train-test split\n",
    "np.random.seed(1)\n",
    "test_frac = 0.25\n",
    "test_size = int(len(y)*test_frac)\n",
    "test_idxs = np.random.choice(np.arange(len(y)), test_size, replace = False)\n",
    "X_train = X.drop(test_idxs)\n",
    "y_train = y.drop(test_idxs)\n",
    "X_test = X.loc[test_idxs]\n",
    "y_test = y.loc[test_idxs]\n",
    "\n",
    "## Get dummies\n",
    "X_train = pd.get_dummies(X_train, drop_first = True)\n",
    "X_test = pd.get_dummies(X_test, drop_first = True)"
   ]
  },
  {
   "cell_type": "code",
   "execution_count": 8,
   "id": "029ba9e7",
   "metadata": {},
   "outputs": [
    {
     "name": "stdout",
     "output_type": "stream",
     "text": [
      "0.963855421686747\n",
      "0.927710843373494\n"
     ]
    }
   ],
   "source": [
    "from sklearn.ensemble import BaggingClassifier\n",
    "from sklearn.naive_bayes import GaussianNB\n",
    "\n",
    "bagger1 = BaggingClassifier(n_estimators= 1000,random_state = 100)\n",
    "bagger1.fit(X_train,y_train)\n",
    "\n",
    "bagger2 = BaggingClassifier(estimator= GaussianNB(),random_state = 100)\n",
    "bagger2.fit(X_train,y_train)\n",
    "\n",
    "\n",
    "print(np.mean(bagger1.predict(X_test)== y_test))\n",
    "print(np.mean(bagger2.predict(X_test)== y_test))"
   ]
  },
  {
   "cell_type": "code",
   "execution_count": 11,
   "id": "2f423f42",
   "metadata": {},
   "outputs": [
    {
     "name": "stdout",
     "output_type": "stream",
     "text": [
      "0.9879518072289156\n"
     ]
    }
   ],
   "source": [
    "from sklearn.ensemble import RandomForestClassifier\n",
    "rf = RandomForestClassifier(n_estimators = 1000,max_features = int(np.sqrt(X_test.shape[1])),random_state =200)\n",
    "rf.fit(X_train,y_train)\n",
    "print(np.mean(rf.predict(X_test)==y_test))"
   ]
  },
  {
   "cell_type": "code",
   "execution_count": 18,
   "id": "ada8c53c",
   "metadata": {},
   "outputs": [],
   "source": [
    "y_train = (y_train == 'Adelie')\n",
    "y_test = (y_test == 'Adelie')"
   ]
  },
  {
   "cell_type": "code",
   "execution_count": 19,
   "id": "5f6c77b5",
   "metadata": {},
   "outputs": [
    {
     "data": {
      "text/plain": [
       "1.0"
      ]
     },
     "execution_count": 19,
     "metadata": {},
     "output_type": "execute_result"
    }
   ],
   "source": [
    "from sklearn.ensemble import AdaBoostClassifier \n",
    "X_train = pd.get_dummies(X_train,drop_first = True)\n",
    "X_test = pd.get_dummies(X_test,drop_first = True)\n",
    "\n",
    "abc = AdaBoostClassifier(n_estimators= 50)\n",
    "abc.fit(X_train,y_train)\n",
    "\n",
    "y_test_hat = abc.predict(X_test)\n",
    "\n",
    "np.mean(y_test_hat == y_test)\n"
   ]
  },
  {
   "cell_type": "code",
   "execution_count": 21,
   "id": "011b8932",
   "metadata": {},
   "outputs": [],
   "source": [
    "## Load penguins data\n",
    "tips = sns.load_dataset('tips')\n",
    "tips = tips.dropna().reset_index(drop = True)\n",
    "X = tips.drop(columns = 'tip')\n",
    "y = tips['tip']\n",
    "\n",
    "## Train-test split\n",
    "np.random.seed(1)\n",
    "test_frac = 0.25\n",
    "test_size = int(len(y)*test_frac)\n",
    "test_idxs = np.random.choice(np.arange(len(y)), test_size, replace = False)\n",
    "X_train = X.drop(test_idxs)\n",
    "y_train = y.drop(test_idxs)\n",
    "X_test = X.loc[test_idxs]\n",
    "y_test = y.loc[test_idxs]"
   ]
  },
  {
   "cell_type": "code",
   "execution_count": 25,
   "id": "2b04c789",
   "metadata": {},
   "outputs": [
    {
     "data": {
      "image/png": "[encoded data removed]",
      "text/plain": [
       "<Figure size 640x480 with 1 Axes>"
      ]
     },
     "metadata": {},
     "output_type": "display_data"
    }
   ],
   "source": [
    "from sklearn.ensemble import AdaBoostRegressor\n",
    "\n",
    "X_train = pd.get_dummies(X_train,drop_first = True)\n",
    "X_test = pd.get_dummies(X_test,drop_first = True)\n",
    "\n",
    "abr = AdaBoostRegressor(n_estimators = 50)\n",
    "abr.fit(X_train,y_train)\n",
    "\n",
    "y_test_hat = abr.predict(X_test)\n",
    "\n",
    "\n",
    "plt.scatter(y_test,y_test_hat)\n",
    "plt.xlabel(\"Y_test\")\n",
    "plt.ylabel(\"Y_test_hat\")\n",
    "plt.show()"
   ]
  },
  {
   "cell_type": "code",
   "execution_count": null,
   "id": "0b35fb9a",
   "metadata": {},
   "outputs": [],
   "source": []
  }
 ],
 "metadata": {
  "kernelspec": {
   "display_name": "Python 3 (ipykernel)",
   "language": "python",
   "name": "python3"
  },
  "language_info": {
   "codemirror_mode": {
    "name": "ipython",
    "version": 3
   },
   "file_extension": ".py",
   "mimetype": "text/x-python",
   "name": "python",
   "nbconvert_exporter": "python",
   "pygments_lexer": "ipython3",
   "version": "3.10.6"
  }
 },
 "nbformat": 4,
 "nbformat_minor": 5
}
