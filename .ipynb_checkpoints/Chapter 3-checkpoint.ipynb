{
 "cells": [
  {
   "cell_type": "code",
   "execution_count": 1,
   "id": "ccdf9f25",
   "metadata": {},
   "outputs": [],
   "source": [
    "from sklearn import datasets\n",
    "import numpy as np\n",
    "import matplotlib\n",
    "import matplotlib.pyplot as plt\n",
    "from sklearn.model_selection import train_test_split\n",
    "\n"
   ]
  },
  {
   "cell_type": "code",
   "execution_count": 2,
   "id": "05932d89",
   "metadata": {},
   "outputs": [
    {
     "data": {
      "text/plain": [
       "(1797, 64)"
      ]
     },
     "execution_count": 2,
     "metadata": {},
     "output_type": "execute_result"
    }
   ],
   "source": [
    "digits = datasets.load_digits()\n",
    "digits.data.shape"
   ]
  },
  {
   "cell_type": "code",
   "execution_count": 3,
   "id": "2ba43d28",
   "metadata": {},
   "outputs": [],
   "source": [
    "X,y = digits['data'],digits['target']\n"
   ]
  },
  {
   "cell_type": "code",
   "execution_count": 4,
   "id": "8ca07f24",
   "metadata": {},
   "outputs": [
    {
     "data": {
      "image/png": "[encoded data removed]",
      "text/plain": [
       "<Figure size 640x480 with 1 Axes>"
      ]
     },
     "metadata": {},
     "output_type": "display_data"
    }
   ],
   "source": [
    "some_digit = X[60]\n",
    "\n",
    "plt.imshow(digits.images[120],cmap = matplotlib.cm.binary,\n",
    "          interpolation = \"nearest\")\n",
    "# plt.axis('off')\n",
    "plt.show()"
   ]
  },
  {
   "cell_type": "code",
   "execution_count": 5,
   "id": "f3d77b65",
   "metadata": {},
   "outputs": [
    {
     "data": {
      "text/plain": [
       "5"
      ]
     },
     "execution_count": 5,
     "metadata": {},
     "output_type": "execute_result"
    }
   ],
   "source": [
    "y[120]"
   ]
  },
  {
   "cell_type": "markdown",
   "id": "82b4c82f",
   "metadata": {},
   "source": [
    "split the dataset into train and test size"
   ]
  },
  {
   "cell_type": "code",
   "execution_count": 6,
   "id": "5b08797c",
   "metadata": {},
   "outputs": [],
   "source": [
    "X_train,X_test,y_train,y_test = X[:1000],X[1000:], y[:1000], y[1000:]\n",
    "\n",
    "shuffle_index = np.random.permutation(1000)\n",
    "X_train,y_train  = X_train[shuffle_index], y_train[shuffle_index]\n"
   ]
  },
  {
   "cell_type": "code",
   "execution_count": 7,
   "id": "f846897a",
   "metadata": {},
   "outputs": [
    {
     "name": "stdout",
     "output_type": "stream",
     "text": [
      "2\n",
      "1\n"
     ]
    }
   ],
   "source": [
    "y_train_5 =(y_train ==5)\n",
    "y_test_5 = (y_test ==5)\n",
    "\n",
    "print(X_train.ndim)\n",
    "print(y_train.ndim)\n",
    "\n"
   ]
  },
  {
   "cell_type": "code",
   "execution_count": null,
   "id": "3242e820",
   "metadata": {},
   "outputs": [],
   "source": []
  },
  {
   "cell_type": "code",
   "execution_count": 8,
   "id": "931c421d",
   "metadata": {},
   "outputs": [
    {
     "data": {
      "text/html": [
       "<style>#sk-container-id-1 {color: black;background-color: white;}#sk-container-id-1 pre{padding: 0;}#sk-container-id-1 div.sk-toggleable {background-color: white;}#sk-container-id-1 label.sk-toggleable__label {cursor: pointer;display: block;width: 100%;margin-bottom: 0;padding: 0.3em;box-sizing: border-box;text-align: center;}#sk-container-id-1 label.sk-toggleable__label-arrow:before {content: \"▸\";float: left;margin-right: 0.25em;color: #696969;}#sk-container-id-1 label.sk-toggleable__label-arrow:hover:before {color: black;}#sk-container-id-1 div.sk-estimator:hover label.sk-toggleable__label-arrow:before {color: black;}#sk-container-id-1 div.sk-toggleable__content {max-height: 0;max-width: 0;overflow: hidden;text-align: left;background-color: #f0f8ff;}#sk-container-id-1 div.sk-toggleable__content pre {margin: 0.2em;color: black;border-radius: 0.25em;background-color: #f0f8ff;}#sk-container-id-1 input.sk-toggleable__control:checked~div.sk-toggleable__content {max-height: 200px;max-width: 100%;overflow: auto;}#sk-container-id-1 input.sk-toggleable__control:checked~label.sk-toggleable__label-arrow:before {content: \"▾\";}#sk-container-id-1 div.sk-estimator input.sk-toggleable__control:checked~label.sk-toggleable__label {background-color: #d4ebff;}#sk-container-id-1 div.sk-label input.sk-toggleable__control:checked~label.sk-toggleable__label {background-color: #d4ebff;}#sk-container-id-1 input.sk-hidden--visually {border: 0;clip: rect(1px 1px 1px 1px);clip: rect(1px, 1px, 1px, 1px);height: 1px;margin: -1px;overflow: hidden;padding: 0;position: absolute;width: 1px;}#sk-container-id-1 div.sk-estimator {font-family: monospace;background-color: #f0f8ff;border: 1px dotted black;border-radius: 0.25em;box-sizing: border-box;margin-bottom: 0.5em;}#sk-container-id-1 div.sk-estimator:hover {background-color: #d4ebff;}#sk-container-id-1 div.sk-parallel-item::after {content: \"\";width: 100%;border-bottom: 1px solid gray;flex-grow: 1;}#sk-container-id-1 div.sk-label:hover label.sk-toggleable__label {background-color: #d4ebff;}#sk-container-id-1 div.sk-serial::before {content: \"\";position: absolute;border-left: 1px solid gray;box-sizing: border-box;top: 0;bottom: 0;left: 50%;z-index: 0;}#sk-container-id-1 div.sk-serial {display: flex;flex-direction: column;align-items: center;background-color: white;padding-right: 0.2em;padding-left: 0.2em;position: relative;}#sk-container-id-1 div.sk-item {position: relative;z-index: 1;}#sk-container-id-1 div.sk-parallel {display: flex;align-items: stretch;justify-content: center;background-color: white;position: relative;}#sk-container-id-1 div.sk-item::before, #sk-container-id-1 div.sk-parallel-item::before {content: \"\";position: absolute;border-left: 1px solid gray;box-sizing: border-box;top: 0;bottom: 0;left: 50%;z-index: -1;}#sk-container-id-1 div.sk-parallel-item {display: flex;flex-direction: column;z-index: 1;position: relative;background-color: white;}#sk-container-id-1 div.sk-parallel-item:first-child::after {align-self: flex-end;width: 50%;}#sk-container-id-1 div.sk-parallel-item:last-child::after {align-self: flex-start;width: 50%;}#sk-container-id-1 div.sk-parallel-item:only-child::after {width: 0;}#sk-container-id-1 div.sk-dashed-wrapped {border: 1px dashed gray;margin: 0 0.4em 0.5em 0.4em;box-sizing: border-box;padding-bottom: 0.4em;background-color: white;}#sk-container-id-1 div.sk-label label {font-family: monospace;font-weight: bold;display: inline-block;line-height: 1.2em;}#sk-container-id-1 div.sk-label-container {text-align: center;}#sk-container-id-1 div.sk-container {/* jupyter's `normalize.less` sets `[hidden] { display: none; }` but bootstrap.min.css set `[hidden] { display: none !important; }` so we also need the `!important` here to be able to override the default hidden behavior on the sphinx rendered scikit-learn.org. See: https://github.com/scikit-learn/scikit-learn/issues/21755 */display: inline-block !important;position: relative;}#sk-container-id-1 div.sk-text-repr-fallback {display: none;}</style><div id=\"sk-container-id-1\" class=\"sk-top-container\"><div class=\"sk-text-repr-fallback\"><pre>SGDClassifier(random_state=42)</pre><b>In a Jupyter environment, please rerun this cell to show the HTML representation or trust the notebook. <br />On GitHub, the HTML representation is unable to render, please try loading this page with nbviewer.org.</b></div><div class=\"sk-container\" hidden><div class=\"sk-item\"><div class=\"sk-estimator sk-toggleable\"><input class=\"sk-toggleable__control sk-hidden--visually\" id=\"sk-estimator-id-1\" type=\"checkbox\" checked><label for=\"sk-estimator-id-1\" class=\"sk-toggleable__label sk-toggleable__label-arrow\">SGDClassifier</label><div class=\"sk-toggleable__content\"><pre>SGDClassifier(random_state=42)</pre></div></div></div></div></div>"
      ],
      "text/plain": [
       "SGDClassifier(random_state=42)"
      ]
     },
     "execution_count": 8,
     "metadata": {},
     "output_type": "execute_result"
    }
   ],
   "source": [
    "from sklearn.linear_model import SGDClassifier\n",
    "\n",
    "sgd_clf = SGDClassifier(random_state = 42)#set random state parameter for variable result\n",
    "sgd_clf.fit(X_train,y_train_5)"
   ]
  },
  {
   "cell_type": "code",
   "execution_count": 9,
   "id": "86abc087",
   "metadata": {},
   "outputs": [
    {
     "data": {
      "text/plain": [
       "array([ True])"
      ]
     },
     "execution_count": 9,
     "metadata": {},
     "output_type": "execute_result"
    }
   ],
   "source": [
    "some_digit = X[120]\n",
    "sgd_clf.predict([some_digit])"
   ]
  },
  {
   "cell_type": "code",
   "execution_count": 10,
   "id": "fc953928",
   "metadata": {},
   "outputs": [
    {
     "name": "stdout",
     "output_type": "stream",
     "text": [
      "0.9790419161676647\n",
      "0.984984984984985\n",
      "0.996996996996997\n"
     ]
    }
   ],
   "source": [
    "from sklearn.model_selection import StratifiedKFold\n",
    "from sklearn.base import clone\n",
    "skfolds = StratifiedKFold(n_splits=3, random_state=None)\n",
    "for train_index, test_index in skfolds.split(X_train, y_train_5):\n",
    "     clone_clf = clone(sgd_clf)\n",
    "     X_train_folds = X_train[train_index]\n",
    "     y_train_folds = (y_train_5[train_index])\n",
    "     X_test_fold = X_train[test_index]\n",
    "     y_test_fold = (y_train_5[test_index])\n",
    "     clone_clf.fit(X_train_folds, y_train_folds)\n",
    "     y_pred = clone_clf.predict(X_test_fold)\n",
    "     n_correct = sum(y_pred == y_test_fold)\n",
    "     print(n_correct / len(y_pred)) "
   ]
  },
  {
   "cell_type": "code",
   "execution_count": 11,
   "id": "5acb42aa",
   "metadata": {},
   "outputs": [
    {
     "data": {
      "text/plain": [
       "array([0.96407186, 0.95795796, 0.93393393])"
      ]
     },
     "execution_count": 11,
     "metadata": {},
     "output_type": "execute_result"
    }
   ],
   "source": [
    "from sklearn.model_selection import cross_val_score\n",
    "cross_val_score(sgd_clf,X_train,y_train,cv =3,scoring =\"accuracy\")"
   ]
  },
  {
   "cell_type": "code",
   "execution_count": 12,
   "id": "07a06d0b",
   "metadata": {},
   "outputs": [],
   "source": [
    "from sklearn.base import BaseEstimator\n",
    "\n",
    "class never5Classifier(BaseEstimator):\n",
    "    def fit(self,X,y = None):\n",
    "        pass\n",
    "    \n",
    "    def predict(self,X):\n",
    "        return np.zeros((len(X),1),dtype =bool)"
   ]
  },
  {
   "cell_type": "code",
   "execution_count": 13,
   "id": "645f8083",
   "metadata": {},
   "outputs": [
    {
     "data": {
      "text/plain": [
       "array([0.91017964, 0.89189189, 0.8978979 ])"
      ]
     },
     "execution_count": 13,
     "metadata": {},
     "output_type": "execute_result"
    }
   ],
   "source": [
    "never5_clf = never5Classifier()\n",
    "cross_val_score(never5_clf,X_train,y_train_5,cv =3,scoring = 'accuracy')"
   ]
  },
  {
   "cell_type": "code",
   "execution_count": 14,
   "id": "d5f32251",
   "metadata": {},
   "outputs": [],
   "source": [
    "from sklearn.model_selection import cross_val_predict\n",
    "\n",
    "y_train_pred = cross_val_predict(sgd_clf,X_train,y_train_5,cv=3)\n"
   ]
  },
  {
   "cell_type": "code",
   "execution_count": 15,
   "id": "6467bd1b",
   "metadata": {},
   "outputs": [
    {
     "data": {
      "text/plain": [
       "array([[895,   5],\n",
       "       [  8,  92]], dtype=int64)"
      ]
     },
     "execution_count": 15,
     "metadata": {},
     "output_type": "execute_result"
    }
   ],
   "source": [
    "from sklearn.metrics import confusion_matrix\n",
    "confusion_matrix(y_train_5,y_train_pred)"
   ]
  },
  {
   "cell_type": "code",
   "execution_count": 59,
   "id": "1b5fd871",
   "metadata": {},
   "outputs": [
    {
     "ename": "ValueError",
     "evalue": "Target is multiclass but average='binary'. Please choose another average setting, one of [None, 'micro', 'macro', 'weighted'].",
     "output_type": "error",
     "traceback": [
      "\u001b[1;31m---------------------------------------------------------------------------\u001b[0m",
      "\u001b[1;31mValueError\u001b[0m                                Traceback (most recent call last)",
      "Cell \u001b[1;32mIn[59], line 2\u001b[0m\n\u001b[0;32m      1\u001b[0m \u001b[38;5;28;01mfrom\u001b[39;00m \u001b[38;5;21;01msklearn\u001b[39;00m\u001b[38;5;21;01m.\u001b[39;00m\u001b[38;5;21;01mmetrics\u001b[39;00m \u001b[38;5;28;01mimport\u001b[39;00m precision_score, recall_score\n\u001b[1;32m----> 2\u001b[0m \u001b[43mprecision_score\u001b[49m\u001b[43m(\u001b[49m\u001b[43my_train_5\u001b[49m\u001b[43m,\u001b[49m\u001b[43my_train_pred\u001b[49m\u001b[43m)\u001b[49m\n\u001b[0;32m      3\u001b[0m recall_score(y_train_5,y_train_pred)\n",
      "File \u001b[1;32mF:\\Ankit Project\\base\\Lib\\site-packages\\sklearn\\metrics\\_classification.py:1954\u001b[0m, in \u001b[0;36mprecision_score\u001b[1;34m(y_true, y_pred, labels, pos_label, average, sample_weight, zero_division)\u001b[0m\n\u001b[0;32m   1825\u001b[0m \u001b[38;5;28;01mdef\u001b[39;00m \u001b[38;5;21mprecision_score\u001b[39m(\n\u001b[0;32m   1826\u001b[0m     y_true,\n\u001b[0;32m   1827\u001b[0m     y_pred,\n\u001b[1;32m   (...)\u001b[0m\n\u001b[0;32m   1833\u001b[0m     zero_division\u001b[38;5;241m=\u001b[39m\u001b[38;5;124m\"\u001b[39m\u001b[38;5;124mwarn\u001b[39m\u001b[38;5;124m\"\u001b[39m,\n\u001b[0;32m   1834\u001b[0m ):\n\u001b[0;32m   1835\u001b[0m \u001b[38;5;250m    \u001b[39m\u001b[38;5;124;03m\"\"\"Compute the precision.\u001b[39;00m\n\u001b[0;32m   1836\u001b[0m \n\u001b[0;32m   1837\u001b[0m \u001b[38;5;124;03m    The precision is the ratio ``tp / (tp + fp)`` where ``tp`` is the number of\u001b[39;00m\n\u001b[1;32m   (...)\u001b[0m\n\u001b[0;32m   1952\u001b[0m \u001b[38;5;124;03m    array([0.5, 1. , 1. ])\u001b[39;00m\n\u001b[0;32m   1953\u001b[0m \u001b[38;5;124;03m    \"\"\"\u001b[39;00m\n\u001b[1;32m-> 1954\u001b[0m     p, _, _, _ \u001b[38;5;241m=\u001b[39m \u001b[43mprecision_recall_fscore_support\u001b[49m\u001b[43m(\u001b[49m\n\u001b[0;32m   1955\u001b[0m \u001b[43m        \u001b[49m\u001b[43my_true\u001b[49m\u001b[43m,\u001b[49m\n\u001b[0;32m   1956\u001b[0m \u001b[43m        \u001b[49m\u001b[43my_pred\u001b[49m\u001b[43m,\u001b[49m\n\u001b[0;32m   1957\u001b[0m \u001b[43m        \u001b[49m\u001b[43mlabels\u001b[49m\u001b[38;5;241;43m=\u001b[39;49m\u001b[43mlabels\u001b[49m\u001b[43m,\u001b[49m\n\u001b[0;32m   1958\u001b[0m \u001b[43m        \u001b[49m\u001b[43mpos_label\u001b[49m\u001b[38;5;241;43m=\u001b[39;49m\u001b[43mpos_label\u001b[49m\u001b[43m,\u001b[49m\n\u001b[0;32m   1959\u001b[0m \u001b[43m        \u001b[49m\u001b[43maverage\u001b[49m\u001b[38;5;241;43m=\u001b[39;49m\u001b[43maverage\u001b[49m\u001b[43m,\u001b[49m\n\u001b[0;32m   1960\u001b[0m \u001b[43m        \u001b[49m\u001b[43mwarn_for\u001b[49m\u001b[38;5;241;43m=\u001b[39;49m\u001b[43m(\u001b[49m\u001b[38;5;124;43m\"\u001b[39;49m\u001b[38;5;124;43mprecision\u001b[39;49m\u001b[38;5;124;43m\"\u001b[39;49m\u001b[43m,\u001b[49m\u001b[43m)\u001b[49m\u001b[43m,\u001b[49m\n\u001b[0;32m   1961\u001b[0m \u001b[43m        \u001b[49m\u001b[43msample_weight\u001b[49m\u001b[38;5;241;43m=\u001b[39;49m\u001b[43msample_weight\u001b[49m\u001b[43m,\u001b[49m\n\u001b[0;32m   1962\u001b[0m \u001b[43m        \u001b[49m\u001b[43mzero_division\u001b[49m\u001b[38;5;241;43m=\u001b[39;49m\u001b[43mzero_division\u001b[49m\u001b[43m,\u001b[49m\n\u001b[0;32m   1963\u001b[0m \u001b[43m    \u001b[49m\u001b[43m)\u001b[49m\n\u001b[0;32m   1964\u001b[0m     \u001b[38;5;28;01mreturn\u001b[39;00m p\n",
      "File \u001b[1;32mF:\\Ankit Project\\base\\Lib\\site-packages\\sklearn\\metrics\\_classification.py:1573\u001b[0m, in \u001b[0;36mprecision_recall_fscore_support\u001b[1;34m(y_true, y_pred, beta, labels, pos_label, average, warn_for, sample_weight, zero_division)\u001b[0m\n\u001b[0;32m   1571\u001b[0m \u001b[38;5;28;01mif\u001b[39;00m beta \u001b[38;5;241m<\u001b[39m \u001b[38;5;241m0\u001b[39m:\n\u001b[0;32m   1572\u001b[0m     \u001b[38;5;28;01mraise\u001b[39;00m \u001b[38;5;167;01mValueError\u001b[39;00m(\u001b[38;5;124m\"\u001b[39m\u001b[38;5;124mbeta should be >=0 in the F-beta score\u001b[39m\u001b[38;5;124m\"\u001b[39m)\n\u001b[1;32m-> 1573\u001b[0m labels \u001b[38;5;241m=\u001b[39m \u001b[43m_check_set_wise_labels\u001b[49m\u001b[43m(\u001b[49m\u001b[43my_true\u001b[49m\u001b[43m,\u001b[49m\u001b[43m \u001b[49m\u001b[43my_pred\u001b[49m\u001b[43m,\u001b[49m\u001b[43m \u001b[49m\u001b[43maverage\u001b[49m\u001b[43m,\u001b[49m\u001b[43m \u001b[49m\u001b[43mlabels\u001b[49m\u001b[43m,\u001b[49m\u001b[43m \u001b[49m\u001b[43mpos_label\u001b[49m\u001b[43m)\u001b[49m\n\u001b[0;32m   1575\u001b[0m \u001b[38;5;66;03m# Calculate tp_sum, pred_sum, true_sum ###\u001b[39;00m\n\u001b[0;32m   1576\u001b[0m samplewise \u001b[38;5;241m=\u001b[39m average \u001b[38;5;241m==\u001b[39m \u001b[38;5;124m\"\u001b[39m\u001b[38;5;124msamples\u001b[39m\u001b[38;5;124m\"\u001b[39m\n",
      "File \u001b[1;32mF:\\Ankit Project\\base\\Lib\\site-packages\\sklearn\\metrics\\_classification.py:1391\u001b[0m, in \u001b[0;36m_check_set_wise_labels\u001b[1;34m(y_true, y_pred, average, labels, pos_label)\u001b[0m\n\u001b[0;32m   1389\u001b[0m         \u001b[38;5;28;01mif\u001b[39;00m y_type \u001b[38;5;241m==\u001b[39m \u001b[38;5;124m\"\u001b[39m\u001b[38;5;124mmulticlass\u001b[39m\u001b[38;5;124m\"\u001b[39m:\n\u001b[0;32m   1390\u001b[0m             average_options\u001b[38;5;241m.\u001b[39mremove(\u001b[38;5;124m\"\u001b[39m\u001b[38;5;124msamples\u001b[39m\u001b[38;5;124m\"\u001b[39m)\n\u001b[1;32m-> 1391\u001b[0m         \u001b[38;5;28;01mraise\u001b[39;00m \u001b[38;5;167;01mValueError\u001b[39;00m(\n\u001b[0;32m   1392\u001b[0m             \u001b[38;5;124m\"\u001b[39m\u001b[38;5;124mTarget is \u001b[39m\u001b[38;5;132;01m%s\u001b[39;00m\u001b[38;5;124m but average=\u001b[39m\u001b[38;5;124m'\u001b[39m\u001b[38;5;124mbinary\u001b[39m\u001b[38;5;124m'\u001b[39m\u001b[38;5;124m. Please \u001b[39m\u001b[38;5;124m\"\u001b[39m\n\u001b[0;32m   1393\u001b[0m             \u001b[38;5;124m\"\u001b[39m\u001b[38;5;124mchoose another average setting, one of \u001b[39m\u001b[38;5;132;01m%r\u001b[39;00m\u001b[38;5;124m.\u001b[39m\u001b[38;5;124m\"\u001b[39m \u001b[38;5;241m%\u001b[39m (y_type, average_options)\n\u001b[0;32m   1394\u001b[0m         )\n\u001b[0;32m   1395\u001b[0m \u001b[38;5;28;01melif\u001b[39;00m pos_label \u001b[38;5;129;01mnot\u001b[39;00m \u001b[38;5;129;01min\u001b[39;00m (\u001b[38;5;28;01mNone\u001b[39;00m, \u001b[38;5;241m1\u001b[39m):\n\u001b[0;32m   1396\u001b[0m     warnings\u001b[38;5;241m.\u001b[39mwarn(\n\u001b[0;32m   1397\u001b[0m         \u001b[38;5;124m\"\u001b[39m\u001b[38;5;124mNote that pos_label (set to \u001b[39m\u001b[38;5;132;01m%r\u001b[39;00m\u001b[38;5;124m) is ignored when \u001b[39m\u001b[38;5;124m\"\u001b[39m\n\u001b[0;32m   1398\u001b[0m         \u001b[38;5;124m\"\u001b[39m\u001b[38;5;124maverage != \u001b[39m\u001b[38;5;124m'\u001b[39m\u001b[38;5;124mbinary\u001b[39m\u001b[38;5;124m'\u001b[39m\u001b[38;5;124m (got \u001b[39m\u001b[38;5;132;01m%r\u001b[39;00m\u001b[38;5;124m). You may use \u001b[39m\u001b[38;5;124m\"\u001b[39m\n\u001b[1;32m   (...)\u001b[0m\n\u001b[0;32m   1401\u001b[0m         \u001b[38;5;167;01mUserWarning\u001b[39;00m,\n\u001b[0;32m   1402\u001b[0m     )\n",
      "\u001b[1;31mValueError\u001b[0m: Target is multiclass but average='binary'. Please choose another average setting, one of [None, 'micro', 'macro', 'weighted']."
     ]
    }
   ],
   "source": [
    "from sklearn.metrics import precision_score, recall_score\n",
    "precision_score(y_train_5,y_train_pred)\n",
    "recall_score(y_train_5,y_train_pred)"
   ]
  },
  {
   "cell_type": "markdown",
   "id": "22c2f2ea",
   "metadata": {},
   "source": [
    "Precison and Recall tradeoff"
   ]
  },
  {
   "cell_type": "code",
   "execution_count": 17,
   "id": "a99d29c9",
   "metadata": {},
   "outputs": [
    {
     "data": {
      "text/plain": [
       "array([186.07321148])"
      ]
     },
     "execution_count": 17,
     "metadata": {},
     "output_type": "execute_result"
    }
   ],
   "source": [
    "y_scores = sgd_clf.decision_function([some_digit])\n",
    "y_scores"
   ]
  },
  {
   "cell_type": "code",
   "execution_count": null,
   "id": "6107d2ac",
   "metadata": {},
   "outputs": [],
   "source": []
  },
  {
   "cell_type": "code",
   "execution_count": 18,
   "id": "d4a4c580",
   "metadata": {},
   "outputs": [
    {
     "data": {
      "text/plain": [
       "array([ -4353.01657398,  -5294.2016615 ,  -6084.50415912,  -6466.83771219,\n",
       "        -2280.21206215,  -1724.29028671,  -3385.4636552 ,  -3182.57784256,\n",
       "        -2293.39597777,   2849.79599469,  -6435.34280264,  -2466.25176038,\n",
       "        -2901.32097594,  -4043.19455684,   3697.9612331 ,  -3293.9086856 ,\n",
       "        -2191.58685157,  -4007.30500875,  -3448.45347429,  -3357.63094444,\n",
       "        -5810.57169007,  -5987.08967146,  -5052.49654175,  -5251.72015561,\n",
       "        -5888.94274405,  -4736.81500656,  -4929.4466626 ,  -3899.6363645 ,\n",
       "        -1569.74549802,  -3579.56019076,  -3837.37898517,  -4438.71202553,\n",
       "        -3728.97790116,   -374.40381488,  -3364.95534201,  -6435.34280264,\n",
       "        -3041.94940925,  -4624.019284  ,  -3111.53118615,  -4286.3645561 ,\n",
       "        -3617.64705812,  -4035.13771951,  -3991.92377386,    616.58717612,\n",
       "        -8302.3317428 ,  -1730.88224452,  -3528.28940779,  -1974.78468355,\n",
       "          413.70136347,  -4079.81654468,   1310.20762583,  -4713.37693434,\n",
       "        -2695.50540427,   2564.87692928,  -5338.14804691,  -6552.53316374,\n",
       "        -3139.36389691,  -4440.9093448 ,  -1048.24839116,  -4688.4739826 ,\n",
       "        -1275.30471578,  -5895.53470186,  -1987.23615942,    144.89597272,\n",
       "        -3639.62025082,  -3293.9086856 ,  -3664.52320256,   3180.12632502,\n",
       "        -6956.83990951,  -3939.92055112,  -4820.31313883,  -2699.90004281,\n",
       "        -4199.20422504,  -3164.26684864,  -3482.87814286,  -3111.53118615,\n",
       "        -3111.53118615,  -3749.48621435,  -3282.18964949,  -3958.9639848 ,\n",
       "         1127.09768663,  -5362.31855889,  -3529.02184754,   3261.42713803,\n",
       "        -3118.85558372,  -5253.18503512,  -7477.60457661,  -5146.98127038,\n",
       "        -4399.89271841,   -649.06872369,  -3765.599889  ,  -3657.93124474,\n",
       "        -2368.83727272,  -4600.58121178,    262.08633381,  -5947.5379246 ,\n",
       "        -4040.26479781,  -4690.67130187,  -4709.71473555,  -4074.68946638,\n",
       "        -5762.96310587,  -5429.70301652,  -8459.07385077,  -4968.26596971,\n",
       "        -5051.76410199,  -6133.57762283,  -3994.85353289,  -3653.5366062 ,\n",
       "        -3737.76717824,  -2545.35525412,  -5901.39421991,   1913.0055457 ,\n",
       "        -4566.15654321,   3637.90117304,  -2814.16064488,  -2970.90275284,\n",
       "        -2540.96061558,  -2704.29468135,  -4257.06696583,  -4063.70287003,\n",
       "        -3085.1633549 ,  -3445.52371526,  -3704.07494942,    842.91106098,\n",
       "        -3326.86847466,  -3169.39392694,  -1648.116552  ,  -3088.09311393,\n",
       "        -2902.78585545,  -1117.83016806,  -4367.66536911,   2490.16807409,\n",
       "        -5970.24355706,   1144.67624079,  -3311.48723976,  -2458.92736281,\n",
       "        -4421.13347136,  -2403.26194129,  -1024.07787918,  -4966.06865044,\n",
       "         3043.16009049,  -1443.76585985,  -1087.80013803,  -3852.0277803 ,\n",
       "        -5467.05744411,  -2688.1810067 ,  -2231.8710382 ,  -3945.78006918,\n",
       "        -3789.03796122,  -4115.70609276,  -2187.19221303,  -4001.4454907 ,\n",
       "        -5054.69386102,  -1749.9256782 ,  -3619.11193763,  -3757.54305167,\n",
       "        -1497.2339621 ,  -5387.22151062,  -4303.21067051,  -3730.44278067,\n",
       "         -558.9786336 ,  -2300.72037534,  -6925.34499996,  -8286.21806815,\n",
       "        -5094.97804765,  -2746.04374749,  -4953.61717458,  -1740.40396136,\n",
       "        -3561.9816366 ,  -2321.22868853,  -2387.14826664,  -4113.50877349,\n",
       "        -4091.53558079,  -4131.08732766,  -3566.37627514,  -5297.13142053,\n",
       "        -1321.44842046,  -3791.96772024,  -4854.7378074 ,  -1379.31116125,\n",
       "        -6413.36960994,  -3282.18964949,  -6455.85111584,   2522.39542339,\n",
       "        -3240.44058335,   -837.30574119,  -2729.93007284,  -4460.68521823,\n",
       "        -3785.37576243,  -3085.89579466,  -6192.90524313,   1441.31434231,\n",
       "        -1221.10417377,  -8052.56978572,  -2228.20883941,  -4030.01064121,\n",
       "        -3688.69371453,  -5809.83925031,   -197.88583348,  -3954.56934626,\n",
       "        -3427.9451611 ,  -6581.83075401,  -1292.15083018,  -3175.25344499,\n",
       "        -5417.25154065,  -4833.49705446,  -2278.74718263,  -3413.29636596,\n",
       "        -1601.97284732,  -4888.43003622,  -4302.47823075,  -4660.64127184,\n",
       "         -598.53038047,  -4783.69115099,  -4069.56238808,  -2441.34880865,\n",
       "        -2495.54935066,   3418.90168575,  -4344.95973665,  -1642.25703395,\n",
       "        -3440.39663697,  -2737.25447041,  -4785.88847026,   -969.87733718,\n",
       "         2586.85012199,  -7481.99921515,  -3823.46262979,   2538.50909804,\n",
       "        -4417.47127258,  -3411.09904669,  -4799.07238589,  -5669.94325676,\n",
       "        -6030.30361712,  -4267.32112243,  -5159.43274625,  -5512.46870904,\n",
       "        -2757.7627836 ,  -4843.75121105,  -3181.84540281,  -2868.36118688,\n",
       "        -3492.3998597 ,  -4189.6825082 ,  -3929.66639453,  -2772.41157874,\n",
       "        -3133.50437885,  -3985.33181605,  -6006.13310514,  -2862.50166883,\n",
       "        -3663.7907628 ,  -3383.99877569,  -5998.07626782,  -4770.50723537,\n",
       "        -1140.53580052,  -5426.04081773,  -4538.32383245,  -4227.0369358 ,\n",
       "        -4272.44820072,  -4788.08578953,  -4407.94955574,   2698.91340478,\n",
       "        -1338.29453486,    617.31961587,  -1840.01576829,  -2996.53814433,\n",
       "        -3583.9548293 ,  -4366.93292936,  -4572.74850103,  -2821.48504244,\n",
       "        -5822.29072618,   4001.92373218,  -3936.9907921 ,  -1563.15354021,\n",
       "        -3184.04272208,  -5579.85316667,  -6780.32192811,  -3742.89425654,\n",
       "        -2082.4533278 ,  -2997.27058408,  -6240.51382733,   3287.06252952,\n",
       "        -3488.73766092,  -3838.11142492,  -7511.29680543,  -3000.93278287,\n",
       "        -4330.31094151,  -1147.86019809,  -3876.93073204,  -6331.33635717,\n",
       "        -6990.53213832,  -4002.91037021,  -6304.96852593,  -8024.00463521,\n",
       "        -3499.72425727,   1283.83979459,  -5443.6193719 ,  -5383.55931184,\n",
       "         2788.27105512,  -5214.36572801,  -2569.5257661 ,  -3392.05561302,\n",
       "         3276.80837292,  -4150.13076133,  -5681.66229287,  -2094.90480367,\n",
       "        -7766.91828056,   3619.59017912,  -5518.32822709,  -2691.11076573,\n",
       "        -4138.41172523,  -5248.05795682,  -5932.1566897 ,  -3495.32961873,\n",
       "        -4572.01606127,  -4216.05033945,  -3551.72748   ,  -4024.88356292,\n",
       "        -3583.9548293 ,  -3851.29534055,  -4520.74527829,  -3676.97467842,\n",
       "        -3317.34675782,  -6910.69620483,  -4995.36624072,  -5221.69012558,\n",
       "        -2685.98368743,  -2568.79332634,  -3137.8990174 ,  -3459.44007064,\n",
       "        -2831.73919904,  -6171.66449019,  -3560.98041834, -10466.4563708 ,\n",
       "        -9956.62631416, -10346.49635747,  -6974.2870939 ,  -4038.59898993,\n",
       "        -7891.75904769,  -7390.81491795,  -6799.90077822,  -4165.22344844,\n",
       "       -10322.06005846,  -6344.49702392, -11702.71095261, -11744.91910545,\n",
       "        -7258.63675512,  -9284.62809134,  -5952.40549887,  -8424.91466248,\n",
       "        -4380.70717609,   -210.33730935,  -8100.57833015,  -9413.47403158,\n",
       "        -7542.98641634,  -6298.95664849, -10474.23155685, -11297.29053719,\n",
       "        -8260.52501459,   3392.5338545 ,  -8528.21356285,  -5533.65619308,\n",
       "        -6260.08071824,  -8592.63653297, -12507.99807912,  -6107.90921985,\n",
       "          353.27038694,  -3035.5999896 ,  -6453.34962861, -10646.3963908 ,\n",
       "        -2996.72405935,   2427.178255  ,   1141.01404201,  -9379.04106479,\n",
       "       -15866.87845233, -12974.50924207, -10062.14669625,   3081.24994931,\n",
       "        -8188.32685842,  -9145.78548332,  -5205.98763816,  -7250.86156907,\n",
       "        -4009.71972746,  -6756.58188452,  -9616.73960972, -12488.00474357,\n",
       "        -5610.29731271,  -7555.20456585,  -9923.30408823,  -8760.35840346,\n",
       "        -9872.21000848,  -7834.00052275,  -8692.60321075,  -7499.66752264,\n",
       "         -559.75860339,  -8535.9887489 ,  -9650.06183565,  -8200.54500792,\n",
       "       -12205.87656407,  -3155.56000293,  -6733.25632637,  -6930.96820019,\n",
       "        -7451.90566548,  -6935.41116365,  -7190.88156241,  -5808.00918653,\n",
       "        -6032.37884109, -13272.18779366,  -6412.25221663,  -6081.25143911,\n",
       "       -13627.62487019,  -5989.05994739,  -4979.39650187,  -5532.54545222,\n",
       "        -9056.92621419,  -8663.72394828,  -9653.39405824,  -6256.74849565,\n",
       "       -14689.49313633,  -5997.9458743 , -12693.49180344,  -4572.86534559,\n",
       "       -11180.66274646,  -5398.14580766, -10676.38639413,  -7519.6608582 ,\n",
       "        -5772.46547888,   3960.95671372, -13834.22267093,  -9314.61809467,\n",
       "       -13416.584106  ,  -9587.86034726, -11101.8001451 ,   5822.55840205,\n",
       "        -9323.50402159,  -8312.7298352 ,  -9323.50402159,  -1015.1623577 ,\n",
       "        -8721.48247321,  -6767.68929316,  -7922.85979189, -11637.17724162,\n",
       "        -8630.40172235,  -9413.47403158,   3216.76033474, -10038.8211381 ,\n",
       "        -7288.62675845,  -8545.98541668,  -5290.40394383,   5804.78654822,\n",
       "       -10172.1100418 ,  -8687.04950642,  -6262.30219997, -11816.00652075,\n",
       "        -9462.34662961, -10318.72783587, -10575.30897549,  -8688.16024729,\n",
       "       -11193.99163683,  -5869.09993406, -14224.09271424,  -1670.49946755,\n",
       "        -5824.67029949,  -8194.9913036 ,  -4365.15680399,  -6741.03151242,\n",
       "        -5756.91510678,   1231.86641049,  -8797.01285198, -10493.11415154,\n",
       "        -9225.75882554,  -7960.62498127,  -8081.69573546,  -9631.17924096,\n",
       "         6390.14698363,  -9450.1284801 ,  -6468.9000007 ,  -5852.4388211 ,\n",
       "        -5018.27243212,  -8107.24277534,  -7725.14791807,  -4128.56899993,\n",
       "        -7624.07049943,  -3782.01785031,  -3138.89888996,  -9372.37661961,\n",
       "        -6685.49446922,  -4672.83202336,  -9184.66141357,  -3514.32930205,\n",
       "         1200.7656663 ,   5095.02313603,  -7464.12381499,  -6312.28553886,\n",
       "       -10578.64119808,  -6024.60365504,  -5608.07583098,  -4811.67463138,\n",
       "        -5282.62875779,  -7414.1404761 ,  -7092.0256255 ,  -3885.31675068,\n",
       "        -5134.90022285, -11366.15647077,  -5825.78104036,  -7405.25454919,\n",
       "        -5773.57621974, -12087.02729161,   2399.25505872,  -8332.72317076,\n",
       "        -9043.59732382, -12654.61587319,  -8150.56166904,  -8434.91133026,\n",
       "        -7316.39528006,  -8369.37761928, -11130.67940757,  -9084.69473579,\n",
       "        -7899.53423374,  -7208.65341623,  -8192.76982188,  -9927.74705169,\n",
       "        -9826.66963305,  -8936.96620086, -11277.29720164, -11439.4653678 ,\n",
       "       -12109.24210889,   6377.92883413,  -5631.40138913, -10168.77781921,\n",
       "       -11879.31875001,  -2290.29286975, -11262.8575704 ,  -8291.62575879,\n",
       "        -6071.25477134,  -6663.27965193,  -5383.70617642,  -6117.90588763,\n",
       "       -10654.17157685,  -7164.22378167,  -2236.97730827,  -2938.96553442,\n",
       "       -10901.86678955, -10806.34307524, -14760.58055163, -15700.26732271,\n",
       "        -6926.52523674,  -6885.42782476,  -7932.85645966,  -8914.75138358,\n",
       "        -8589.30431038,  -6995.39117031,  -4389.593103  ,  -5344.83024618,\n",
       "       -10492.00341068, -12332.50102259,  -4381.81791695,  -7459.68085153,\n",
       "        -8480.45170569, -10094.35818131,  -8952.51657296, -12394.70251098,\n",
       "       -10063.25743711,  -7730.70162239,  -3164.44592984,   5916.9713755 ,\n",
       "        -8519.32763594, -11467.23388941, -10312.06339069,   5725.92394687,\n",
       "        -5791.34807357,  -9962.18001848, -10234.31153019,   7123.23595398,\n",
       "         2589.19174649,  -8367.15613755,  -6466.67851898, -10986.28309523,\n",
       "        -7938.41016398, -10617.51712833,   1657.28016146, -11046.26310189,\n",
       "        -8798.12359284,   5760.35691366,  -4222.98197338,  -6020.16069159,\n",
       "        -8108.3535162 ,  -6465.56777811,  -7321.94898438,  -7174.22044944,\n",
       "         5467.12132552,  -7808.45348288, -10032.15669292,  -2008.16469025,\n",
       "        -9617.85035059, -10052.15002847,  -7684.05050609, -14159.66974412,\n",
       "        -4159.66974412,   4767.3545811 ,  -1828.22467026,  -9141.34251986,\n",
       "       -10106.57633082,  -8630.40172235,  -8673.72061605,  -3663.16857785,\n",
       "        -5503.66618975, -13629.84635192, -10566.42304858,  -7592.96975523,\n",
       "       -15690.27065493,  -7936.18868226,  -3637.62153797,  -3468.78892662,\n",
       "        -6424.47036614,   6732.25516979,   3111.23995264,   5724.813206  ,\n",
       "        -8864.76804469, -12233.64508568,  -6494.44704058,  -8061.7023999 ,\n",
       "        -5903.53290085,  -9626.7362775 ,  -6184.55033948,  -9490.11515121,\n",
       "        -6945.40783143,  -7885.0946025 ,  -3046.70739824,  -8815.89544667,\n",
       "        -6926.52523674,   1039.70824099,  -3481.00707612,  -9603.41071935,\n",
       "         6310.17364141,  -5514.77359839,  -8713.70728716,  -8221.64908434,\n",
       "        -2656.83735492,   4885.0931127 ,   2090.46909848,  -7989.50424373,\n",
       "        -9004.72139357,  -6357.82591429,  -9174.66474579,  -9512.32996849,\n",
       "        -9903.31075268,   3136.78699252,   3888.75855755,  -7176.44193117,\n",
       "        -3419.9163286 ,  -8492.6698552 ,  -4325.17013288,  -3438.79892329,\n",
       "       -10596.41305191,  -6924.30375501,  -6350.05072824,  -5982.3955022 ,\n",
       "        -3368.82224884,  -6451.12814688,  -5391.48136247,  -5503.66618975,\n",
       "        -9346.82957973,  -4715.0401762 ,  -6420.02740268,  -7187.54933981,\n",
       "        -8594.8580147 ,  -7059.81414044,  -3291.41968516,  -2924.54671891,\n",
       "        -3456.67202996,  -5358.03105503,   3176.77366363,  -2547.4651136 ,\n",
       "        -4103.00649049,  -4220.40583969,  -6342.52668446,  -4455.84257803,\n",
       "        -3532.59878297,  -1640.81035702,  -2879.88392302,  -2079.78183663,\n",
       "        -6064.34127005,  -2108.49363399, -11564.883604  ,  -5003.28084767,\n",
       "        -4255.49803646,   -626.96489029,  -5698.10634374,  -1361.98690267,\n",
       "        -4456.48061797,   2909.69050434,  -3193.79957414,  -2419.2190854 ,\n",
       "        -4085.77941208,  -4266.34471547,   2708.70792283,  -4738.49427203,\n",
       "         1780.35980824,  -4249.11763705,  -3959.4475037 ,  -3186.78113479,\n",
       "        -4162.34420503,   2927.55562269,  -1971.95308655,  -3930.73570634,\n",
       "        -5376.53421333,  -5488.19120306,  -4247.20351723,  -1979.60956585,\n",
       "        -3277.38280645,  -4986.05376925,  -4640.87416101,  -3548.5497815 ,\n",
       "        -6607.95130004,   3919.06969147,   2888.63518627,  -4851.42734164,\n",
       "        -4819.52534457,   2178.49673161,  -3637.23733334,  -2432.61792417,\n",
       "        -3989.43538094,  -5862.08260866,  -3532.59878297,  -6933.3516701 ,\n",
       "        -3822.26891632,  -4199.35052163,   3619.82895901,  -4912.04113606,\n",
       "        -5867.18692819,  -1243.31147359,  -1685.47315291,  -5198.52106971,\n",
       "         2981.7890177 ,    686.75934885,  -2417.94300552,  -6376.34280135,\n",
       "        -2367.53785016,  -5089.41623974,  -1682.92099314,   4284.0285379 ,\n",
       "        -5878.03360719,  -5627.28391026,   -438.10506766,   2757.19895837,\n",
       "        -1996.19860432,  -3389.03979618,  -5074.74132109,  -4815.69710493,\n",
       "        -3479.0034279 ,  -2866.48508425,   1246.95841731,  -2443.46460317,\n",
       "        -4093.43589137,   1520.67755213,  -3314.38912305,   -644.83000865,\n",
       "        -4345.46166819,  -2874.77960349,  -3903.29998887,   3688.09923272,\n",
       "        -2179.95410741,   2145.31865466,  -2779.0736123 ,  -6147.92450236,\n",
       "         -750.10659896,  -3876.50231133,  -2148.69015029,  -6701.74317141,\n",
       "        -2548.10315355,  -2707.61313887,  -5113.66175751,   1991.55102881,\n",
       "        -3094.2653433 ,  -2324.78917409,  -4681.70871725,  -3395.42019559,\n",
       "        -5649.61530821,  -2820.54620848,  -1398.99321926,  -5493.93356253,\n",
       "        -2835.22112713,  -3453.48183025,  -4352.48010754,  -4223.5960394 ,\n",
       "        -1113.15132556,  -4321.21615042,    -39.96814429,  -2112.95991358,\n",
       "         2141.49041501,  -1246.50167329,  -3110.85438177,  -4182.12344322,\n",
       "        -3531.96074303,  -3246.11884933,  -4288.03807347,  -2614.45930744,\n",
       "        -2112.95991358,  -4183.3995231 ,  -2047.87983957,  -4360.77462678,\n",
       "        -8924.03628696,  -5288.48470143,  -4022.61345789,  -1703.9763112 ,\n",
       "        -3408.18099442,  -3768.03552131,  -6699.19101164,  -3279.93496622,\n",
       "        -2032.56688097,  -3144.03245872,  -1275.21347065,  -5282.74234196,\n",
       "        -5016.67968644,  -2156.34662959,  -4543.25404999,  -3699.12720765,\n",
       "         3054.52557101,  -2513.01095677,   2897.56774545,  -3787.17671955,\n",
       "        -4104.28257038,  -5085.5880001 ,  -2854.36232537,  -3708.69780677,\n",
       "        -5384.82873257,  -3425.40807283,  -2655.93190362,  -2650.82758409,\n",
       "         1068.30723375,  -3422.85591307,  -6802.55348214,   4922.70651914,\n",
       "          -29.12146529,  -2643.80914474,  -2645.08522462,  -1576.36832294,\n",
       "        -8091.39416356,  -2430.0657644 ,  -5050.49580332,  -2770.14105312,\n",
       "        -4586.00272606,  -2104.66539434,  -5705.76282304,  -1713.54691032,\n",
       "        -3296.52400469,   2729.76324089,  -3043.22214799,  -3488.57402702,\n",
       "        -1385.5943805 ,  -5049.85776338,  -4444.99589903,  -2722.28805752,\n",
       "        -3125.52930042,  -3225.70157121,  -3495.59246638,  -3675.51972982,\n",
       "        -2858.82860496,  -3929.45962646,  -2906.68160056,   1051.71819527,\n",
       "        -3468.1567489 ,  -6800.63936231,  -4127.8900482 ,  -3930.73570634,\n",
       "        -6747.04400724,  -4805.48846587,  -4020.06129812,  -3619.37221499,\n",
       "        -3214.8548922 ,  -4840.58066264,   -328.36219776,  -2557.03571272,\n",
       "        -4689.36519655,  -4322.4922303 ,  -4642.15024089,  -3259.51768809,\n",
       "        -2699.31861963,  -4855.25558129,   2780.16839625,  -3192.52349426,\n",
       "        -3876.50231133,  -1566.15968388,  -3293.33380498,  -5240.63170583,\n",
       "        -3293.33380498,  -4783.79510786,  -2327.9793738 ,  -4949.04745266,\n",
       "        -5066.44680186,  -3100.00770277,  -4107.47277008,  -2407.73436646,\n",
       "        -5610.69487179,  -4630.66552195,  -2230.35926278,  -3425.40807283,\n",
       "         1369.46208604,  -1225.44635523,  -1655.48527567,  -4399.6950632 ,\n",
       "        -1857.74393706,  -4203.81680122,  -5183.84615106,  -2073.40143722,\n",
       "        -5274.44782272,  -2810.97560936,  -3425.40807283,  -1191.63023834,\n",
       "         1951.99255245,  -1591.68128154,  -2817.99404872,  -3338.63464082,\n",
       "        -3298.43812451,   3603.87796047,  -2732.49669658,  -2732.49669658,\n",
       "        -5212.55794842,  -5673.22278603,  -3385.84959647,  -2896.47296149,\n",
       "        -2160.17486923,  -6175.99825978,  -5031.35460509,  -2438.99832358,\n",
       "        -5617.71331114,  -3740.59980384,  -1467.26349298,  -3636.5992934 ,\n",
       "        -1289.25034936,   1786.10216771,  -2343.29233239,  -3996.4538203 ,\n",
       "         2688.29064471,  -4895.45209759,  -4013.04285877,  -1721.20338962,\n",
       "        -5775.30917664,  -3859.91327286,  -3064.915506  ,  -4125.97592838,\n",
       "        -3217.40705197,  -3833.11559532,  -2199.7333456 ,  -2756.74221435,\n",
       "        -4013.68089871,  -2096.3708751 ,  -1150.7956821 ,   2285.68744175,\n",
       "        -3014.51035064,  -8000.7924919 ,  -2747.80965517,  -4268.25883529,\n",
       "        -3849.06659386,  -3167.00189661,  -6782.13620401,  -9928.31115457,\n",
       "        -3664.67305082,  -5353.56477544,   -834.32787121,  -3396.05823553,\n",
       "        -7962.51009542,  -3867.56975215,  -3031.73742905,  -2329.89349362,\n",
       "        -1922.18597113,  -2622.75382668,  -3484.74578737,  -2985.79855328,\n",
       "        -3828.64931573,   4157.69662952,  -1520.85884805,  -2881.1600029 ,\n",
       "        -4929.90625442,  -3734.85744436,  -2615.09734738,  -5453.09900629,\n",
       "         3808.68878163,  -2719.73589775,  -3833.75363527,  -4170.63872427,\n",
       "        -4960.5321716 ,  -4097.90217096,  -1967.48680696,  -4834.83830317,\n",
       "        -3679.98600941,  -1905.59693266,  -6607.95130004,  -1760.76186598,\n",
       "        -2400.07788716,  -2810.33756942,  -4214.02544028,  -4259.32627611,\n",
       "        -6928.24735057,  -5722.35186151,   1072.77351333,  -4419.47430138,\n",
       "        -5209.36774871,  -3583.00393833,  -2678.26330157,  -4987.32984914])"
      ]
     },
     "execution_count": 18,
     "metadata": {},
     "output_type": "execute_result"
    }
   ],
   "source": [
    "y_scores = cross_val_predict(sgd_clf,X_train,y_train_5,cv=3,method = \"decision_function\")\n",
    "y_scores"
   ]
  },
  {
   "cell_type": "code",
   "execution_count": 19,
   "id": "ea97fd5f",
   "metadata": {},
   "outputs": [],
   "source": [
    "from sklearn.metrics import precision_recall_curve\n",
    "precisions, recalls, thresholds = precision_recall_curve(y_train_5,y_scores)"
   ]
  },
  {
   "cell_type": "code",
   "execution_count": 20,
   "id": "b59891cb",
   "metadata": {},
   "outputs": [
    {
     "data": {
      "image/png": "[encoded data removed]",
      "text/plain": [
       "<Figure size 640x480 with 1 Axes>"
      ]
     },
     "metadata": {},
     "output_type": "display_data"
    }
   ],
   "source": [
    "def plot_precision_recall_vs_threshold(precisions, recalls, thresholds):\n",
    "    plt.plot(thresholds, precisions[:-1], \"b--\", label=\"Precision\")\n",
    "    plt.plot(thresholds, recalls[:-1], \"g-\", label=\"Recall\")\n",
    "    plt.xlabel(\"Threshold\")\n",
    "    plt.legend(loc=\"upper left\")\n",
    "    plt.ylim([0, 1])\n",
    "plot_precision_recall_vs_threshold(precisions, recalls, thresholds)\n",
    "plt.show()\n"
   ]
  },
  {
   "cell_type": "markdown",
   "id": "e08fe893",
   "metadata": {},
   "source": [
    "It's important to note that meeting at (0,0) is not the desired outcome for most classification problems since it signifies a lack of positive predictions. Usually, a balance between precision and recall is sought, and the curve is expected to rise to higher precision and recall values as the threshold decreases"
   ]
  },
  {
   "cell_type": "code",
   "execution_count": 21,
   "id": "b939cc1c",
   "metadata": {},
   "outputs": [
    {
     "data": {
      "image/png": "[encoded data removed]",
      "text/plain": [
       "<Figure size 640x480 with 1 Axes>"
      ]
     },
     "metadata": {},
     "output_type": "display_data"
    }
   ],
   "source": [
    "plt.plot(recalls,precisions)\n",
    "plt.xlabel(\"Precisons\")\n",
    "plt.ylabel(\"Recall\")\n",
    "plt.show()"
   ]
  },
  {
   "cell_type": "code",
   "execution_count": 22,
   "id": "2059be13",
   "metadata": {},
   "outputs": [
    {
     "data": {
      "text/plain": [
       "array([False, False, False, False, False, False, False, False, False,\n",
       "        True, False, False, False, False,  True, False, False, False,\n",
       "       False, False, False, False, False, False, False, False, False,\n",
       "       False, False, False, False, False, False, False, False, False,\n",
       "       False, False, False, False, False, False, False, False, False,\n",
       "       False, False, False, False, False,  True, False, False,  True,\n",
       "       False, False, False, False, False, False, False, False, False,\n",
       "       False, False, False, False,  True, False, False, False, False,\n",
       "       False, False, False, False, False, False, False, False,  True,\n",
       "       False, False,  True, False, False, False, False, False, False,\n",
       "       False, False, False, False, False, False, False, False, False,\n",
       "       False, False, False, False, False, False, False, False, False,\n",
       "       False, False, False,  True, False,  True, False, False, False,\n",
       "       False, False, False, False, False, False,  True, False, False,\n",
       "       False, False, False, False, False,  True, False,  True, False,\n",
       "       False, False, False, False, False,  True, False, False, False,\n",
       "       False, False, False, False, False, False, False, False, False,\n",
       "       False, False, False, False, False, False, False, False, False,\n",
       "       False, False, False, False, False, False, False, False, False,\n",
       "       False, False, False, False, False, False, False, False, False,\n",
       "       False, False, False,  True, False, False, False, False, False,\n",
       "       False, False,  True, False, False, False, False, False, False,\n",
       "       False, False, False, False, False, False, False, False, False,\n",
       "       False, False, False, False, False, False, False, False, False,\n",
       "       False,  True, False, False, False, False, False, False,  True,\n",
       "       False, False,  True, False, False, False, False, False, False,\n",
       "       False, False, False, False, False, False, False, False, False,\n",
       "       False, False, False, False, False, False, False, False, False,\n",
       "       False, False, False, False, False, False, False,  True, False,\n",
       "       False, False, False, False, False, False, False, False,  True,\n",
       "       False, False, False, False, False, False, False, False, False,\n",
       "        True, False, False, False, False, False, False, False, False,\n",
       "       False, False, False, False, False,  True, False, False,  True,\n",
       "       False, False, False,  True, False, False, False, False,  True,\n",
       "       False, False, False, False, False, False, False, False, False,\n",
       "       False, False, False, False, False, False, False, False, False,\n",
       "       False, False, False, False, False, False, False, False, False,\n",
       "       False, False, False, False, False, False, False, False, False,\n",
       "       False, False, False, False, False, False, False, False, False,\n",
       "       False, False, False, False, False, False,  True, False, False,\n",
       "       False, False, False, False, False, False, False, False, False,\n",
       "        True,  True, False, False, False, False,  True, False, False,\n",
       "       False, False, False, False, False, False, False, False, False,\n",
       "       False, False, False, False, False, False, False, False, False,\n",
       "       False, False, False, False, False, False, False, False, False,\n",
       "       False, False, False, False, False, False, False, False, False,\n",
       "       False, False, False, False, False, False, False, False, False,\n",
       "       False, False,  True, False, False, False, False, False,  True,\n",
       "       False, False, False, False, False, False, False, False, False,\n",
       "       False,  True, False, False, False, False,  True, False, False,\n",
       "       False, False, False, False, False, False, False, False, False,\n",
       "       False, False, False, False, False, False,  True, False, False,\n",
       "       False, False, False, False,  True, False, False, False, False,\n",
       "       False, False, False, False, False, False, False, False, False,\n",
       "       False, False,  True,  True, False, False, False, False, False,\n",
       "       False, False, False, False, False, False, False, False, False,\n",
       "       False, False,  True, False, False, False, False, False, False,\n",
       "       False, False, False, False, False, False, False, False, False,\n",
       "       False, False, False,  True, False, False, False, False, False,\n",
       "       False, False, False, False, False, False, False, False, False,\n",
       "       False, False, False, False, False, False, False, False, False,\n",
       "       False, False, False, False, False, False, False, False, False,\n",
       "       False, False, False, False, False,  True, False, False, False,\n",
       "        True, False, False, False,  True,  True, False, False, False,\n",
       "       False, False,  True, False, False,  True, False, False, False,\n",
       "       False, False, False,  True, False, False, False, False, False,\n",
       "       False, False, False,  True, False, False, False, False, False,\n",
       "       False, False, False, False, False, False, False, False, False,\n",
       "       False,  True,  True,  True, False, False, False, False, False,\n",
       "       False, False, False, False, False, False, False, False,  True,\n",
       "       False, False,  True, False, False, False, False,  True,  True,\n",
       "       False, False, False, False, False, False,  True,  True, False,\n",
       "       False, False, False, False, False, False, False, False, False,\n",
       "       False, False, False, False, False, False, False, False, False,\n",
       "       False, False, False, False,  True, False, False, False, False,\n",
       "       False, False, False, False, False, False, False, False, False,\n",
       "       False, False, False, False, False,  True, False, False, False,\n",
       "       False,  True, False,  True, False, False, False, False,  True,\n",
       "       False, False, False, False, False, False, False, False, False,\n",
       "       False, False,  True,  True, False, False,  True, False, False,\n",
       "       False, False, False, False, False, False,  True, False, False,\n",
       "       False, False, False,  True, False, False, False, False, False,\n",
       "       False,  True, False, False, False,  True, False, False, False,\n",
       "       False, False, False,  True, False, False,  True, False, False,\n",
       "       False, False, False,  True, False,  True, False, False, False,\n",
       "       False, False, False, False, False, False,  True, False, False,\n",
       "       False, False, False, False, False, False, False, False, False,\n",
       "       False, False, False, False, False,  True, False, False, False,\n",
       "       False, False, False, False, False, False, False, False, False,\n",
       "       False, False, False, False, False, False, False, False, False,\n",
       "       False, False, False, False, False, False,  True, False,  True,\n",
       "       False, False, False, False, False, False, False, False, False,\n",
       "        True, False, False,  True, False, False, False, False, False,\n",
       "       False, False, False, False, False, False, False, False,  True,\n",
       "       False, False, False, False, False, False, False, False, False,\n",
       "       False, False, False, False,  True, False, False, False, False,\n",
       "       False, False, False, False, False, False, False, False, False,\n",
       "       False, False, False, False, False,  True, False, False, False,\n",
       "       False, False, False, False, False, False, False, False, False,\n",
       "       False, False, False, False, False,  True, False, False, False,\n",
       "       False, False, False, False, False, False, False, False,  True,\n",
       "       False, False, False, False,  True, False, False, False, False,\n",
       "       False, False, False, False, False, False, False, False, False,\n",
       "       False, False,  True, False, False,  True, False, False, False,\n",
       "       False, False, False, False, False, False, False, False, False,\n",
       "       False, False,  True, False, False, False, False, False, False,\n",
       "       False, False, False, False, False, False, False, False, False,\n",
       "       False, False, False, False, False, False,  True, False, False,\n",
       "       False, False, False, False,  True, False, False, False, False,\n",
       "       False, False, False, False, False, False, False, False, False,\n",
       "       False, False, False, False,  True, False, False, False, False,\n",
       "       False])"
      ]
     },
     "execution_count": 22,
     "metadata": {},
     "output_type": "execute_result"
    }
   ],
   "source": [
    "y_train_pred_90 =  (y_scores>700)\n",
    "\n",
    "y_train_pred_90"
   ]
  },
  {
   "cell_type": "code",
   "execution_count": 23,
   "id": "f8bb7280",
   "metadata": {},
   "outputs": [
    {
     "data": {
      "text/plain": [
       "0.9888888888888889"
      ]
     },
     "execution_count": 23,
     "metadata": {},
     "output_type": "execute_result"
    }
   ],
   "source": [
    "precision_score(y_train_5,y_train_pred_90)"
   ]
  },
  {
   "cell_type": "markdown",
   "id": "f12d3ad6",
   "metadata": {},
   "source": [
    "Receiver Opening characteristics(ROC)"
   ]
  },
  {
   "cell_type": "code",
   "execution_count": 24,
   "id": "43606f46",
   "metadata": {},
   "outputs": [],
   "source": [
    "from sklearn.metrics import roc_curve\n",
    "\n",
    "fpr,tpr, thresholds = roc_curve(y_train_5,y_scores)\n"
   ]
  },
  {
   "cell_type": "markdown",
   "id": "2c8131ac",
   "metadata": {},
   "source": [
    "Not Nice Curve "
   ]
  },
  {
   "cell_type": "code",
   "execution_count": 25,
   "id": "1b478ea7",
   "metadata": {},
   "outputs": [
    {
     "data": {
      "image/png": "[encoded data removed]",
      "text/plain": [
       "<Figure size 640x480 with 1 Axes>"
      ]
     },
     "metadata": {},
     "output_type": "display_data"
    }
   ],
   "source": [
    "def plot_roc_curve(fpr, tpr, label=None):\n",
    "    plt.plot(fpr, tpr, linewidth=2, label=label)\n",
    "    plt.plot([0, 1], [0, 1], 'k--')\n",
    "    plt.axis([0, 1, 0, 1])\n",
    "    plt.xlabel('False Positive Rate')\n",
    "    plt.ylabel('True Positive Rate')\n",
    "plot_roc_curve(fpr, tpr)\n",
    "plt.show()"
   ]
  },
  {
   "cell_type": "code",
   "execution_count": 26,
   "id": "5c06be50",
   "metadata": {},
   "outputs": [
    {
     "data": {
      "text/plain": [
       "0.9911333333333333"
      ]
     },
     "execution_count": 26,
     "metadata": {},
     "output_type": "execute_result"
    }
   ],
   "source": [
    "from sklearn.metrics import roc_auc_score\n",
    "roc_auc_score(y_train_5,y_scores)"
   ]
  },
  {
   "cell_type": "code",
   "execution_count": 27,
   "id": "1ee8ca7c",
   "metadata": {},
   "outputs": [],
   "source": [
    "from sklearn.ensemble import RandomForestClassifier\n",
    "\n",
    "forest_clf = RandomForestClassifier(random_state =42)\n",
    "y_probas_forest = cross_val_predict(forest_clf,X_train,y_train_5,cv =3,method= \"predict_proba\")"
   ]
  },
  {
   "cell_type": "code",
   "execution_count": 28,
   "id": "97ccd4e6",
   "metadata": {},
   "outputs": [],
   "source": [
    "y_scores_forest = y_probas_forest[:,1]\n",
    "fpr_forest, tpr_forest, thresholds_forest = roc_curve(y_train_5,y_scores_forest)"
   ]
  },
  {
   "cell_type": "code",
   "execution_count": 29,
   "id": "835a759a",
   "metadata": {},
   "outputs": [
    {
     "data": {
      "image/png": "[encoded data removed]",
      "text/plain": [
       "<Figure size 640x480 with 1 Axes>"
      ]
     },
     "metadata": {},
     "output_type": "display_data"
    }
   ],
   "source": [
    "plt.plot(fpr, tpr, \"b:\", label=\"SGD\")\n",
    "plot_roc_curve(fpr_forest, tpr_forest, \"Random Forest\")\n",
    "plt.legend(loc=\"lower right\")\n",
    "plt.show()"
   ]
  },
  {
   "cell_type": "code",
   "execution_count": 30,
   "id": "bbd6ac2a",
   "metadata": {},
   "outputs": [
    {
     "data": {
      "text/html": [
       "<style>#sk-container-id-2 {color: black;background-color: white;}#sk-container-id-2 pre{padding: 0;}#sk-container-id-2 div.sk-toggleable {background-color: white;}#sk-container-id-2 label.sk-toggleable__label {cursor: pointer;display: block;width: 100%;margin-bottom: 0;padding: 0.3em;box-sizing: border-box;text-align: center;}#sk-container-id-2 label.sk-toggleable__label-arrow:before {content: \"▸\";float: left;margin-right: 0.25em;color: #696969;}#sk-container-id-2 label.sk-toggleable__label-arrow:hover:before {color: black;}#sk-container-id-2 div.sk-estimator:hover label.sk-toggleable__label-arrow:before {color: black;}#sk-container-id-2 div.sk-toggleable__content {max-height: 0;max-width: 0;overflow: hidden;text-align: left;background-color: #f0f8ff;}#sk-container-id-2 div.sk-toggleable__content pre {margin: 0.2em;color: black;border-radius: 0.25em;background-color: #f0f8ff;}#sk-container-id-2 input.sk-toggleable__control:checked~div.sk-toggleable__content {max-height: 200px;max-width: 100%;overflow: auto;}#sk-container-id-2 input.sk-toggleable__control:checked~label.sk-toggleable__label-arrow:before {content: \"▾\";}#sk-container-id-2 div.sk-estimator input.sk-toggleable__control:checked~label.sk-toggleable__label {background-color: #d4ebff;}#sk-container-id-2 div.sk-label input.sk-toggleable__control:checked~label.sk-toggleable__label {background-color: #d4ebff;}#sk-container-id-2 input.sk-hidden--visually {border: 0;clip: rect(1px 1px 1px 1px);clip: rect(1px, 1px, 1px, 1px);height: 1px;margin: -1px;overflow: hidden;padding: 0;position: absolute;width: 1px;}#sk-container-id-2 div.sk-estimator {font-family: monospace;background-color: #f0f8ff;border: 1px dotted black;border-radius: 0.25em;box-sizing: border-box;margin-bottom: 0.5em;}#sk-container-id-2 div.sk-estimator:hover {background-color: #d4ebff;}#sk-container-id-2 div.sk-parallel-item::after {content: \"\";width: 100%;border-bottom: 1px solid gray;flex-grow: 1;}#sk-container-id-2 div.sk-label:hover label.sk-toggleable__label {background-color: #d4ebff;}#sk-container-id-2 div.sk-serial::before {content: \"\";position: absolute;border-left: 1px solid gray;box-sizing: border-box;top: 0;bottom: 0;left: 50%;z-index: 0;}#sk-container-id-2 div.sk-serial {display: flex;flex-direction: column;align-items: center;background-color: white;padding-right: 0.2em;padding-left: 0.2em;position: relative;}#sk-container-id-2 div.sk-item {position: relative;z-index: 1;}#sk-container-id-2 div.sk-parallel {display: flex;align-items: stretch;justify-content: center;background-color: white;position: relative;}#sk-container-id-2 div.sk-item::before, #sk-container-id-2 div.sk-parallel-item::before {content: \"\";position: absolute;border-left: 1px solid gray;box-sizing: border-box;top: 0;bottom: 0;left: 50%;z-index: -1;}#sk-container-id-2 div.sk-parallel-item {display: flex;flex-direction: column;z-index: 1;position: relative;background-color: white;}#sk-container-id-2 div.sk-parallel-item:first-child::after {align-self: flex-end;width: 50%;}#sk-container-id-2 div.sk-parallel-item:last-child::after {align-self: flex-start;width: 50%;}#sk-container-id-2 div.sk-parallel-item:only-child::after {width: 0;}#sk-container-id-2 div.sk-dashed-wrapped {border: 1px dashed gray;margin: 0 0.4em 0.5em 0.4em;box-sizing: border-box;padding-bottom: 0.4em;background-color: white;}#sk-container-id-2 div.sk-label label {font-family: monospace;font-weight: bold;display: inline-block;line-height: 1.2em;}#sk-container-id-2 div.sk-label-container {text-align: center;}#sk-container-id-2 div.sk-container {/* jupyter's `normalize.less` sets `[hidden] { display: none; }` but bootstrap.min.css set `[hidden] { display: none !important; }` so we also need the `!important` here to be able to override the default hidden behavior on the sphinx rendered scikit-learn.org. See: https://github.com/scikit-learn/scikit-learn/issues/21755 */display: inline-block !important;position: relative;}#sk-container-id-2 div.sk-text-repr-fallback {display: none;}</style><div id=\"sk-container-id-2\" class=\"sk-top-container\"><div class=\"sk-text-repr-fallback\"><pre>SGDClassifier(random_state=42)</pre><b>In a Jupyter environment, please rerun this cell to show the HTML representation or trust the notebook. <br />On GitHub, the HTML representation is unable to render, please try loading this page with nbviewer.org.</b></div><div class=\"sk-container\" hidden><div class=\"sk-item\"><div class=\"sk-estimator sk-toggleable\"><input class=\"sk-toggleable__control sk-hidden--visually\" id=\"sk-estimator-id-2\" type=\"checkbox\" checked><label for=\"sk-estimator-id-2\" class=\"sk-toggleable__label sk-toggleable__label-arrow\">SGDClassifier</label><div class=\"sk-toggleable__content\"><pre>SGDClassifier(random_state=42)</pre></div></div></div></div></div>"
      ],
      "text/plain": [
       "SGDClassifier(random_state=42)"
      ]
     },
     "execution_count": 30,
     "metadata": {},
     "output_type": "execute_result"
    }
   ],
   "source": [
    "sgd_clf.fit(X_train,y_train)"
   ]
  },
  {
   "cell_type": "code",
   "execution_count": 31,
   "id": "76690015",
   "metadata": {},
   "outputs": [
    {
     "data": {
      "text/plain": [
       "array([5])"
      ]
     },
     "execution_count": 31,
     "metadata": {},
     "output_type": "execute_result"
    }
   ],
   "source": [
    "sgd_clf.predict([some_digit])"
   ]
  },
  {
   "cell_type": "code",
   "execution_count": 32,
   "id": "faa8c2d5",
   "metadata": {},
   "outputs": [
    {
     "data": {
      "text/plain": [
       "array([[-3103.2035275 , -1879.49345772, -4256.93484954, -3290.54474371,\n",
       "        -3972.43901693,   214.84535653, -3195.61654577, -3454.48356212,\n",
       "        -1056.53269532,  -475.09953483]])"
      ]
     },
     "execution_count": 32,
     "metadata": {},
     "output_type": "execute_result"
    }
   ],
   "source": [
    "some_digit_scores = sgd_clf.decision_function([some_digit])\n",
    "some_digit_scores"
   ]
  },
  {
   "cell_type": "code",
   "execution_count": 33,
   "id": "28845f3d",
   "metadata": {},
   "outputs": [
    {
     "data": {
      "text/plain": [
       "5"
      ]
     },
     "execution_count": 33,
     "metadata": {},
     "output_type": "execute_result"
    }
   ],
   "source": [
    "np.argmax(some_digit_scores)"
   ]
  },
  {
   "cell_type": "code",
   "execution_count": 34,
   "id": "bc712ca4",
   "metadata": {},
   "outputs": [
    {
     "data": {
      "text/plain": [
       "5"
      ]
     },
     "execution_count": 34,
     "metadata": {},
     "output_type": "execute_result"
    }
   ],
   "source": [
    "sgd_clf.classes_[5]"
   ]
  },
  {
   "cell_type": "code",
   "execution_count": 35,
   "id": "6b788b46",
   "metadata": {},
   "outputs": [
    {
     "data": {
      "text/html": [
       "<style>#sk-container-id-3 {color: black;background-color: white;}#sk-container-id-3 pre{padding: 0;}#sk-container-id-3 div.sk-toggleable {background-color: white;}#sk-container-id-3 label.sk-toggleable__label {cursor: pointer;display: block;width: 100%;margin-bottom: 0;padding: 0.3em;box-sizing: border-box;text-align: center;}#sk-container-id-3 label.sk-toggleable__label-arrow:before {content: \"▸\";float: left;margin-right: 0.25em;color: #696969;}#sk-container-id-3 label.sk-toggleable__label-arrow:hover:before {color: black;}#sk-container-id-3 div.sk-estimator:hover label.sk-toggleable__label-arrow:before {color: black;}#sk-container-id-3 div.sk-toggleable__content {max-height: 0;max-width: 0;overflow: hidden;text-align: left;background-color: #f0f8ff;}#sk-container-id-3 div.sk-toggleable__content pre {margin: 0.2em;color: black;border-radius: 0.25em;background-color: #f0f8ff;}#sk-container-id-3 input.sk-toggleable__control:checked~div.sk-toggleable__content {max-height: 200px;max-width: 100%;overflow: auto;}#sk-container-id-3 input.sk-toggleable__control:checked~label.sk-toggleable__label-arrow:before {content: \"▾\";}#sk-container-id-3 div.sk-estimator input.sk-toggleable__control:checked~label.sk-toggleable__label {background-color: #d4ebff;}#sk-container-id-3 div.sk-label input.sk-toggleable__control:checked~label.sk-toggleable__label {background-color: #d4ebff;}#sk-container-id-3 input.sk-hidden--visually {border: 0;clip: rect(1px 1px 1px 1px);clip: rect(1px, 1px, 1px, 1px);height: 1px;margin: -1px;overflow: hidden;padding: 0;position: absolute;width: 1px;}#sk-container-id-3 div.sk-estimator {font-family: monospace;background-color: #f0f8ff;border: 1px dotted black;border-radius: 0.25em;box-sizing: border-box;margin-bottom: 0.5em;}#sk-container-id-3 div.sk-estimator:hover {background-color: #d4ebff;}#sk-container-id-3 div.sk-parallel-item::after {content: \"\";width: 100%;border-bottom: 1px solid gray;flex-grow: 1;}#sk-container-id-3 div.sk-label:hover label.sk-toggleable__label {background-color: #d4ebff;}#sk-container-id-3 div.sk-serial::before {content: \"\";position: absolute;border-left: 1px solid gray;box-sizing: border-box;top: 0;bottom: 0;left: 50%;z-index: 0;}#sk-container-id-3 div.sk-serial {display: flex;flex-direction: column;align-items: center;background-color: white;padding-right: 0.2em;padding-left: 0.2em;position: relative;}#sk-container-id-3 div.sk-item {position: relative;z-index: 1;}#sk-container-id-3 div.sk-parallel {display: flex;align-items: stretch;justify-content: center;background-color: white;position: relative;}#sk-container-id-3 div.sk-item::before, #sk-container-id-3 div.sk-parallel-item::before {content: \"\";position: absolute;border-left: 1px solid gray;box-sizing: border-box;top: 0;bottom: 0;left: 50%;z-index: -1;}#sk-container-id-3 div.sk-parallel-item {display: flex;flex-direction: column;z-index: 1;position: relative;background-color: white;}#sk-container-id-3 div.sk-parallel-item:first-child::after {align-self: flex-end;width: 50%;}#sk-container-id-3 div.sk-parallel-item:last-child::after {align-self: flex-start;width: 50%;}#sk-container-id-3 div.sk-parallel-item:only-child::after {width: 0;}#sk-container-id-3 div.sk-dashed-wrapped {border: 1px dashed gray;margin: 0 0.4em 0.5em 0.4em;box-sizing: border-box;padding-bottom: 0.4em;background-color: white;}#sk-container-id-3 div.sk-label label {font-family: monospace;font-weight: bold;display: inline-block;line-height: 1.2em;}#sk-container-id-3 div.sk-label-container {text-align: center;}#sk-container-id-3 div.sk-container {/* jupyter's `normalize.less` sets `[hidden] { display: none; }` but bootstrap.min.css set `[hidden] { display: none !important; }` so we also need the `!important` here to be able to override the default hidden behavior on the sphinx rendered scikit-learn.org. See: https://github.com/scikit-learn/scikit-learn/issues/21755 */display: inline-block !important;position: relative;}#sk-container-id-3 div.sk-text-repr-fallback {display: none;}</style><div id=\"sk-container-id-3\" class=\"sk-top-container\"><div class=\"sk-text-repr-fallback\"><pre>RandomForestClassifier(random_state=42)</pre><b>In a Jupyter environment, please rerun this cell to show the HTML representation or trust the notebook. <br />On GitHub, the HTML representation is unable to render, please try loading this page with nbviewer.org.</b></div><div class=\"sk-container\" hidden><div class=\"sk-item\"><div class=\"sk-estimator sk-toggleable\"><input class=\"sk-toggleable__control sk-hidden--visually\" id=\"sk-estimator-id-3\" type=\"checkbox\" checked><label for=\"sk-estimator-id-3\" class=\"sk-toggleable__label sk-toggleable__label-arrow\">RandomForestClassifier</label><div class=\"sk-toggleable__content\"><pre>RandomForestClassifier(random_state=42)</pre></div></div></div></div></div>"
      ],
      "text/plain": [
       "RandomForestClassifier(random_state=42)"
      ]
     },
     "execution_count": 35,
     "metadata": {},
     "output_type": "execute_result"
    }
   ],
   "source": [
    "forest_clf.fit(X_train,y_train)"
   ]
  },
  {
   "cell_type": "code",
   "execution_count": 36,
   "id": "a7939978",
   "metadata": {},
   "outputs": [
    {
     "data": {
      "text/plain": [
       "array([5])"
      ]
     },
     "execution_count": 36,
     "metadata": {},
     "output_type": "execute_result"
    }
   ],
   "source": [
    "forest_clf.predict([some_digit])"
   ]
  },
  {
   "cell_type": "code",
   "execution_count": 37,
   "id": "00651656",
   "metadata": {},
   "outputs": [
    {
     "data": {
      "text/plain": [
       "array([[0.  , 0.01, 0.01, 0.07, 0.01, 0.79, 0.  , 0.02, 0.04, 0.05]])"
      ]
     },
     "execution_count": 37,
     "metadata": {},
     "output_type": "execute_result"
    }
   ],
   "source": [
    "forest_clf.predict_proba([some_digit])"
   ]
  },
  {
   "cell_type": "code",
   "execution_count": 38,
   "id": "e401cbb5",
   "metadata": {},
   "outputs": [
    {
     "data": {
      "text/plain": [
       "array([0.96407186, 0.95795796, 0.93393393])"
      ]
     },
     "execution_count": 38,
     "metadata": {},
     "output_type": "execute_result"
    }
   ],
   "source": [
    "cross_val_score(sgd_clf,X_train,y_train,cv =3,scoring = \"accuracy\")"
   ]
  },
  {
   "cell_type": "code",
   "execution_count": 39,
   "id": "4bbfeaad",
   "metadata": {},
   "outputs": [],
   "source": [
    "from sklearn.preprocessing import StandardScaler\n",
    "scaler = StandardScaler()\n",
    "X_train_scaled = scaler.fit_transform(X_train.astype(np.float64))\n"
   ]
  },
  {
   "cell_type": "code",
   "execution_count": 40,
   "id": "a80ed7f1",
   "metadata": {},
   "outputs": [
    {
     "data": {
      "text/plain": [
       "array([0.97005988, 0.95495495, 0.92192192])"
      ]
     },
     "execution_count": 40,
     "metadata": {},
     "output_type": "execute_result"
    }
   ],
   "source": [
    "cross_val_score(sgd_clf,X_train_scaled,y_train,cv=3,scoring = \"accuracy\")"
   ]
  },
  {
   "cell_type": "markdown",
   "id": "9cdff080",
   "metadata": {},
   "source": [
    "ERROR ANALYSIS"
   ]
  },
  {
   "cell_type": "code",
   "execution_count": 44,
   "id": "2bbb3c33",
   "metadata": {},
   "outputs": [
    {
     "data": {
      "text/plain": [
       "array([[99,  0,  0,  0,  0,  0,  0,  0,  0,  0],\n",
       "       [ 0, 95,  0,  0,  0,  0,  0,  0,  4,  3],\n",
       "       [ 0,  1, 95,  0,  0,  0,  0,  2,  2,  0],\n",
       "       [ 0,  1,  0, 96,  0,  2,  0,  1,  4,  0],\n",
       "       [ 0,  0,  0,  0, 96,  0,  0,  1,  1,  0],\n",
       "       [ 0,  0,  0,  0,  1, 95,  0,  0,  1,  3],\n",
       "       [ 0,  1,  0,  0,  0,  1, 98,  0,  1,  0],\n",
       "       [ 0,  0,  0,  0,  1,  0,  0, 95,  2,  1],\n",
       "       [ 0,  5,  1,  1,  0,  1,  0,  0, 89,  1],\n",
       "       [ 0,  1,  0,  1,  0,  2,  0,  0,  4, 91]], dtype=int64)"
      ]
     },
     "execution_count": 44,
     "metadata": {},
     "output_type": "execute_result"
    }
   ],
   "source": [
    "y_train_pred = cross_val_predict(sgd_clf,X_train_scaled,y_train, cv =3)\n",
    "conf_matrix = confusion_matrix(y_train,y_train_pred)\n",
    "\n",
    "conf_matrix"
   ]
  },
  {
   "cell_type": "code",
   "execution_count": 42,
   "id": "f4716d99",
   "metadata": {},
   "outputs": [
    {
     "data": {
      "image/png": "[encoded data removed]",
      "text/plain": [
       "<Figure size 480x480 with 1 Axes>"
      ]
     },
     "metadata": {},
     "output_type": "display_data"
    }
   ],
   "source": [
    "plt.matshow(conf_matrix,cmap = plt.cm.gray)\n",
    "plt.show()"
   ]
  },
  {
   "cell_type": "code",
   "execution_count": 52,
   "id": "df1b4910",
   "metadata": {},
   "outputs": [],
   "source": [
    "rows_sums= conf_matrix.sum(axis=1,keepdims= True)\n",
    "norm_conf_mx = conf_matrix/rows_sums\n"
   ]
  },
  {
   "cell_type": "code",
   "execution_count": 49,
   "id": "930e9c1b",
   "metadata": {},
   "outputs": [
    {
     "data": {
      "image/png": "[encoded data removed]",
      "text/plain": [
       "<Figure size 480x480 with 1 Axes>"
      ]
     },
     "metadata": {},
     "output_type": "display_data"
    }
   ],
   "source": [
    "np.fill_diagonal(norm_conf_mx,0)\n",
    "plt.matshow(norm_conf_mx,cmap=plt.cm.gray)\n",
    "plt.show()"
   ]
  },
  {
   "cell_type": "code",
   "execution_count": 54,
   "id": "19731d1e",
   "metadata": {},
   "outputs": [
    {
     "data": {
      "text/html": [
       "<style>#sk-container-id-4 {color: black;background-color: white;}#sk-container-id-4 pre{padding: 0;}#sk-container-id-4 div.sk-toggleable {background-color: white;}#sk-container-id-4 label.sk-toggleable__label {cursor: pointer;display: block;width: 100%;margin-bottom: 0;padding: 0.3em;box-sizing: border-box;text-align: center;}#sk-container-id-4 label.sk-toggleable__label-arrow:before {content: \"▸\";float: left;margin-right: 0.25em;color: #696969;}#sk-container-id-4 label.sk-toggleable__label-arrow:hover:before {color: black;}#sk-container-id-4 div.sk-estimator:hover label.sk-toggleable__label-arrow:before {color: black;}#sk-container-id-4 div.sk-toggleable__content {max-height: 0;max-width: 0;overflow: hidden;text-align: left;background-color: #f0f8ff;}#sk-container-id-4 div.sk-toggleable__content pre {margin: 0.2em;color: black;border-radius: 0.25em;background-color: #f0f8ff;}#sk-container-id-4 input.sk-toggleable__control:checked~div.sk-toggleable__content {max-height: 200px;max-width: 100%;overflow: auto;}#sk-container-id-4 input.sk-toggleable__control:checked~label.sk-toggleable__label-arrow:before {content: \"▾\";}#sk-container-id-4 div.sk-estimator input.sk-toggleable__control:checked~label.sk-toggleable__label {background-color: #d4ebff;}#sk-container-id-4 div.sk-label input.sk-toggleable__control:checked~label.sk-toggleable__label {background-color: #d4ebff;}#sk-container-id-4 input.sk-hidden--visually {border: 0;clip: rect(1px 1px 1px 1px);clip: rect(1px, 1px, 1px, 1px);height: 1px;margin: -1px;overflow: hidden;padding: 0;position: absolute;width: 1px;}#sk-container-id-4 div.sk-estimator {font-family: monospace;background-color: #f0f8ff;border: 1px dotted black;border-radius: 0.25em;box-sizing: border-box;margin-bottom: 0.5em;}#sk-container-id-4 div.sk-estimator:hover {background-color: #d4ebff;}#sk-container-id-4 div.sk-parallel-item::after {content: \"\";width: 100%;border-bottom: 1px solid gray;flex-grow: 1;}#sk-container-id-4 div.sk-label:hover label.sk-toggleable__label {background-color: #d4ebff;}#sk-container-id-4 div.sk-serial::before {content: \"\";position: absolute;border-left: 1px solid gray;box-sizing: border-box;top: 0;bottom: 0;left: 50%;z-index: 0;}#sk-container-id-4 div.sk-serial {display: flex;flex-direction: column;align-items: center;background-color: white;padding-right: 0.2em;padding-left: 0.2em;position: relative;}#sk-container-id-4 div.sk-item {position: relative;z-index: 1;}#sk-container-id-4 div.sk-parallel {display: flex;align-items: stretch;justify-content: center;background-color: white;position: relative;}#sk-container-id-4 div.sk-item::before, #sk-container-id-4 div.sk-parallel-item::before {content: \"\";position: absolute;border-left: 1px solid gray;box-sizing: border-box;top: 0;bottom: 0;left: 50%;z-index: -1;}#sk-container-id-4 div.sk-parallel-item {display: flex;flex-direction: column;z-index: 1;position: relative;background-color: white;}#sk-container-id-4 div.sk-parallel-item:first-child::after {align-self: flex-end;width: 50%;}#sk-container-id-4 div.sk-parallel-item:last-child::after {align-self: flex-start;width: 50%;}#sk-container-id-4 div.sk-parallel-item:only-child::after {width: 0;}#sk-container-id-4 div.sk-dashed-wrapped {border: 1px dashed gray;margin: 0 0.4em 0.5em 0.4em;box-sizing: border-box;padding-bottom: 0.4em;background-color: white;}#sk-container-id-4 div.sk-label label {font-family: monospace;font-weight: bold;display: inline-block;line-height: 1.2em;}#sk-container-id-4 div.sk-label-container {text-align: center;}#sk-container-id-4 div.sk-container {/* jupyter's `normalize.less` sets `[hidden] { display: none; }` but bootstrap.min.css set `[hidden] { display: none !important; }` so we also need the `!important` here to be able to override the default hidden behavior on the sphinx rendered scikit-learn.org. See: https://github.com/scikit-learn/scikit-learn/issues/21755 */display: inline-block !important;position: relative;}#sk-container-id-4 div.sk-text-repr-fallback {display: none;}</style><div id=\"sk-container-id-4\" class=\"sk-top-container\"><div class=\"sk-text-repr-fallback\"><pre>KNeighborsClassifier()</pre><b>In a Jupyter environment, please rerun this cell to show the HTML representation or trust the notebook. <br />On GitHub, the HTML representation is unable to render, please try loading this page with nbviewer.org.</b></div><div class=\"sk-container\" hidden><div class=\"sk-item\"><div class=\"sk-estimator sk-toggleable\"><input class=\"sk-toggleable__control sk-hidden--visually\" id=\"sk-estimator-id-4\" type=\"checkbox\" checked><label for=\"sk-estimator-id-4\" class=\"sk-toggleable__label sk-toggleable__label-arrow\">KNeighborsClassifier</label><div class=\"sk-toggleable__content\"><pre>KNeighborsClassifier()</pre></div></div></div></div></div>"
      ],
      "text/plain": [
       "KNeighborsClassifier()"
      ]
     },
     "execution_count": 54,
     "metadata": {},
     "output_type": "execute_result"
    }
   ],
   "source": [
    "from sklearn.neighbors import KNeighborsClassifier\n",
    "y_train_large = (y_train >= 7)\n",
    "y_train_odd = (y_train % 2 == 1)\n",
    "y_multilabel = np.c_[y_train_large, y_train_odd]\n",
    "knn_clf = KNeighborsClassifier()\n",
    "knn_clf.fit(X_train, y_multilabel)"
   ]
  },
  {
   "cell_type": "code",
   "execution_count": 55,
   "id": "40245d38",
   "metadata": {},
   "outputs": [
    {
     "data": {
      "text/plain": [
       "array([[False,  True]])"
      ]
     },
     "execution_count": 55,
     "metadata": {},
     "output_type": "execute_result"
    }
   ],
   "source": [
    "knn_clf.predict([some_digit])"
   ]
  },
  {
   "cell_type": "code",
   "execution_count": 62,
   "id": "7b045ed3",
   "metadata": {},
   "outputs": [
    {
     "data": {
      "text/plain": [
       "0.9788650392442524"
      ]
     },
     "execution_count": 62,
     "metadata": {},
     "output_type": "execute_result"
    }
   ],
   "source": [
    "from sklearn.metrics import f1_score\n",
    "y_train_knn_pred = cross_val_predict(knn_clf,X_train,y_train,cv=3)\n",
    "f1_score(y_train,y_train_knn_pred,average = 'weighted')"
   ]
  },
  {
   "cell_type": "markdown",
   "id": "710872f2",
   "metadata": {},
   "source": [
    "Did not do the Multilabel Output Classification"
   ]
  },
  {
   "cell_type": "code",
   "execution_count": null,
   "id": "46f83370",
   "metadata": {},
   "outputs": [],
   "source": []
  }
 ],
 "metadata": {
  "kernelspec": {
   "display_name": "Python 3 (ipykernel)",
   "language": "python",
   "name": "python3"
  },
  "language_info": {
   "codemirror_mode": {
    "name": "ipython",
    "version": 3
   },
   "file_extension": ".py",
   "mimetype": "text/x-python",
   "name": "python",
   "nbconvert_exporter": "python",
   "pygments_lexer": "ipython3",
   "version": "3.11.4"
  }
 },
 "nbformat": 4,
 "nbformat_minor": 5
}
