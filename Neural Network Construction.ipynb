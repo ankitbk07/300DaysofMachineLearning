{
 "cells": [
  {
   "cell_type": "code",
   "execution_count": null,
   "id": "58a40608",
   "metadata": {},
   "outputs": [],
   "source": [
    "import tensorflow as tf\n",
    "from sklearn import datasets\n",
    "import matplotlib.pyplot as plt\n",
    "import seaborn as sns\n",
    "\n",
    "cali = datasets.fetch_california_housing()\n",
    "X_boston = cali['data']\n",
    "y_boston = cali['target']"
   ]
  },
  {
   "cell_type": "code",
   "execution_count": null,
   "id": "14f1feaf",
   "metadata": {},
   "outputs": [
    {
     "name": "stdout",
     "output_type": "stream",
     "text": [
      "Model: \"Sequential_Model\"\n",
      "_________________________________________________________________\n",
      " Layer (type)                Output Shape              Param #   \n",
      "=================================================================\n",
      " hidden (Dense)              (None, 8)                 72        \n",
      "                                                                 \n",
      " output (Dense)              (None, 1)                 9         \n",
      "                                                                 \n",
      "=================================================================\n",
      "Total params: 81\n",
      "Trainable params: 81\n",
      "Non-trainable params: 0\n",
      "_________________________________________________________________\n",
      "None\n"
     ]
    }
   ],
   "source": [
    "## 1. Instantiate\n",
    "model = tf.keras.models.Sequential(name = 'Sequential_Model')\n",
    "\n",
    "## 2. Add Layers\n",
    "model.add(tf.keras.layers.Dense(units = 8,\n",
    "                                activation = 'relu',\n",
    "                                input_shape = (X_boston.shape[1], ),\n",
    "                                name = 'hidden'))\n",
    "model.add(tf.keras.layers.Dense(units = 1,\n",
    "                                activation = 'linear',\n",
    "                                name = 'output'))\n",
    "\n",
    "## 3. Compile (and summarize)\n",
    "model.compile(optimizer = 'adam', loss = 'mse')\n",
    "print(model.summary())\n",
    "\n",
    "## 4. Fit\n",
    "model.fit(X_boston, y_boston, epochs = 100, batch_size = 1, validation_split=0.2, verbose = 0);"
   ]
  },
  {
   "cell_type": "code",
   "execution_count": null,
   "id": "8fa3c0e1",
   "metadata": {},
   "outputs": [],
   "source": [
    "import tensorflow as tf"
   ]
  },
  {
   "cell_type": "code",
   "execution_count": null,
   "id": "c73cdd57",
   "metadata": {},
   "outputs": [],
   "source": []
  },
  {
   "cell_type": "code",
   "execution_count": null,
   "id": "2a9f7bfc",
   "metadata": {},
   "outputs": [],
   "source": []
  },
  {
   "cell_type": "code",
   "execution_count": null,
   "id": "24052b20",
   "metadata": {},
   "outputs": [],
   "source": []
  },
  {
   "cell_type": "code",
   "execution_count": null,
   "id": "fb00e529",
   "metadata": {},
   "outputs": [],
   "source": []
  }
 ],
 "metadata": {
  "kernelspec": {
   "display_name": "Python 3 (ipykernel)",
   "language": "python",
   "name": "python3"
  },
  "language_info": {
   "codemirror_mode": {
    "name": "ipython",
    "version": 3
   },
   "file_extension": ".py",
   "mimetype": "text/x-python",
   "name": "python",
   "nbconvert_exporter": "python",
   "pygments_lexer": "ipython3",
   "version": "3.10.6"
  }
 },
 "nbformat": 4,
 "nbformat_minor": 5
}
